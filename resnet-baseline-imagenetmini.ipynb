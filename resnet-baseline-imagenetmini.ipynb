{
 "cells": [
  {
   "cell_type": "code",
   "execution_count": 1,
   "metadata": {},
   "outputs": [],
   "source": [
    "import pandas as pd\n",
    "import numpy as np\n",
    "from skimage import io, transform\n",
    "\n",
    "import torch\n",
    "from torch.utils.data import Dataset, DataLoader, random_split\n",
    "from torchvision import transforms, utils, models\n",
    "import torchvision as tv\n",
    "from torchvision.transforms import v2\n",
    "\n",
    "import lightning as L\n",
    "import torchmetrics as tm\n",
    "import torch.nn.functional as F"
   ]
  },
  {
   "cell_type": "markdown",
   "metadata": {},
   "source": [
    "### Creating the dataset and dataloader from `imagenet-mini`"
   ]
  },
  {
   "cell_type": "code",
   "execution_count": 2,
   "metadata": {},
   "outputs": [],
   "source": [
    "labelLookup = pd.read_csv(\"imagenet-words.txt\", delimiter='\\t', names=['label'], header=None, index_col=0)['label']"
   ]
  },
  {
   "cell_type": "code",
   "execution_count": 3,
   "metadata": {},
   "outputs": [
    {
     "data": {
      "text/plain": [
       "n00001740                          entity\n",
       "n00001930                 physical entity\n",
       "n00002137    abstraction, abstract entity\n",
       "n00002452                           thing\n",
       "n00002684         object, physical object\n",
       "Name: label, dtype: object"
      ]
     },
     "execution_count": 3,
     "metadata": {},
     "output_type": "execute_result"
    }
   ],
   "source": [
    "labelLookup.head()"
   ]
  },
  {
   "cell_type": "code",
   "execution_count": 4,
   "metadata": {},
   "outputs": [],
   "source": [
    "# convert PIL image into torch Tensor then does specified transforms from docs: \n",
    "# https://pytorch.org/vision/main/models/generated/torchvision.models.resnet50.html\n",
    "ds_transforms = v2.Compose([\n",
    "    v2.ToImage(),\n",
    "    v2.Resize(256),\n",
    "    v2.CenterCrop(224),\n",
    "    v2.ToDtype(torch.float32, scale=True),\n",
    "    v2.Normalize([0.485, 0.456, 0.406], [0.229, 0.224, 0.225])\n",
    "])"
   ]
  },
  {
   "cell_type": "code",
   "execution_count": 5,
   "metadata": {},
   "outputs": [],
   "source": [
    "train_whole_dataset = tv.datasets.ImageFolder(\"imagenet-mini/train\", transform=ds_transforms)\n",
    "test_dataset = tv.datasets.ImageFolder(\"imagenet-mini/val\", transform=ds_transforms)"
   ]
  },
  {
   "cell_type": "code",
   "execution_count": 6,
   "metadata": {},
   "outputs": [
    {
     "data": {
      "text/plain": [
       "Dataset ImageFolder\n",
       "    Number of datapoints: 34745\n",
       "    Root location: imagenet-mini/train\n",
       "    StandardTransform\n",
       "Transform: Compose(\n",
       "                 ToImage()\n",
       "                 Resize(size=[256], interpolation=InterpolationMode.BILINEAR, antialias=True)\n",
       "                 CenterCrop(size=(224, 224))\n",
       "                 ToDtype(scale=True)\n",
       "                 Normalize(mean=[0.485, 0.456, 0.406], std=[0.229, 0.224, 0.225], inplace=False)\n",
       "           )"
      ]
     },
     "execution_count": 6,
     "metadata": {},
     "output_type": "execute_result"
    }
   ],
   "source": [
    "train_whole_dataset"
   ]
  },
  {
   "cell_type": "code",
   "execution_count": 7,
   "metadata": {},
   "outputs": [
    {
     "data": {
      "text/plain": [
       "Dataset ImageFolder\n",
       "    Number of datapoints: 3923\n",
       "    Root location: imagenet-mini/val\n",
       "    StandardTransform\n",
       "Transform: Compose(\n",
       "                 ToImage()\n",
       "                 Resize(size=[256], interpolation=InterpolationMode.BILINEAR, antialias=True)\n",
       "                 CenterCrop(size=(224, 224))\n",
       "                 ToDtype(scale=True)\n",
       "                 Normalize(mean=[0.485, 0.456, 0.406], std=[0.229, 0.224, 0.225], inplace=False)\n",
       "           )"
      ]
     },
     "execution_count": 7,
     "metadata": {},
     "output_type": "execute_result"
    }
   ],
   "source": [
    "test_dataset"
   ]
  },
  {
   "cell_type": "code",
   "execution_count": 8,
   "metadata": {},
   "outputs": [],
   "source": [
    "train_dataset, val_dataset = random_split(train_whole_dataset, [.9, .1])"
   ]
  },
  {
   "cell_type": "markdown",
   "metadata": {},
   "source": [
    "### Creating Resnet models & Training"
   ]
  },
  {
   "cell_type": "code",
   "execution_count": 10,
   "metadata": {},
   "outputs": [
    {
     "name": "stderr",
     "output_type": "stream",
     "text": [
      "[rank: 0] Seed set to 42\n"
     ]
    },
    {
     "data": {
      "text/plain": [
       "42"
      ]
     },
     "execution_count": 10,
     "metadata": {},
     "output_type": "execute_result"
    }
   ],
   "source": [
    "L.seed_everything(42)"
   ]
  },
  {
   "cell_type": "code",
   "execution_count": 11,
   "metadata": {},
   "outputs": [],
   "source": [
    "resnets = {\n",
    "        18: models.resnet18,\n",
    "        34: models.resnet34,\n",
    "        50: models.resnet50,\n",
    "        101: models.resnet101,\n",
    "        152: models.resnet152,\n",
    "    }"
   ]
  },
  {
   "cell_type": "code",
   "execution_count": 12,
   "metadata": {},
   "outputs": [],
   "source": [
    "class ResnetClassifier(L.LightningModule):\n",
    "    def __init__(self, variant, lr=1e-2):\n",
    "        super().__init__()\n",
    "        self.save_hyperparameters()\n",
    "        if variant not in resnets:\n",
    "            raise ValueError(\"`variant` argument is invalid (should be [18, 34, 50, 101, 152])\")\n",
    "        self.resnet_model = resnets[variant](weights=None)\n",
    "        self.accuracy = tm.classification.Accuracy(task=\"multiclass\", num_classes=1000)\n",
    "        self.lr = lr\n",
    "\n",
    "    def forward(self, x):\n",
    "        return self.resnet_model(x)\n",
    "\n",
    "    def _batch_step(self, batch, batch_kind):\n",
    "        if batch_kind == 'train':\n",
    "            self.resnet_model.train()\n",
    "        else:\n",
    "            self.resnet_model.eval()\n",
    "        x, y = batch\n",
    "        y_hat = self(x)\n",
    "        loss = F.cross_entropy(y_hat, y)\n",
    "        acc = self.accuracy(y_hat, y)\n",
    "        # logging onto tensorboard\n",
    "        self.log(f\"{batch_kind}_loss\", loss, prog_bar=True)\n",
    "        self.log(f\"{batch_kind}_acc_f1\", acc, prog_bar=True)\n",
    "        return loss\n",
    "\n",
    "    def training_step(self, batch, batch_idx):\n",
    "        return self._batch_step(batch, 'train')\n",
    "\n",
    "    def validation_step(self, batch, batch_idx):\n",
    "        return self._batch_step(batch, 'val')\n",
    "\n",
    "    def test_step(self, batch, batch_idx):\n",
    "        return self._batch_step(batch, 'test')\n",
    "\n",
    "    def predict_step(self, batch, batch_idx):\n",
    "        self.eval()\n",
    "        x, _ = batch\n",
    "        return self(x)\n",
    "    \n",
    "    def configure_optimizers(self):\n",
    "        optimizer = torch.optim.Adam(self.parameters(), lr=self.lr)\n",
    "        return optimizer"
   ]
  },
  {
   "cell_type": "code",
   "execution_count": 12,
   "metadata": {},
   "outputs": [],
   "source": [
    "resnet50_model = ResnetClassifier(50)"
   ]
  },
  {
   "cell_type": "code",
   "execution_count": null,
   "metadata": {},
   "outputs": [],
   "source": [
    "BATCH_SIZE = 64\n",
    "train_loader = DataLoader(train_dataset, BATCH_SIZE, shuffle=True, num_workers=4)\n",
    "val_loader = DataLoader(val_dataset, BATCH_SIZE, num_workers=4)"
   ]
  },
  {
   "cell_type": "code",
   "execution_count": null,
   "metadata": {},
   "outputs": [],
   "source": [
    "trainer = L.Trainer(callbacks=[L.pytorch.callbacks.EarlyStopping(monitor=\"val_loss\", mode=\"min\")], max_epochs=80)"
   ]
  },
  {
   "cell_type": "code",
   "execution_count": null,
   "metadata": {
    "scrolled": true
   },
   "outputs": [],
   "source": [
    "trainer.fit(resnet50_model, train_loader, val_loader)"
   ]
  },
  {
   "cell_type": "code",
   "execution_count": null,
   "metadata": {},
   "outputs": [],
   "source": [
    "CKPT_PATH = 'resnet50-imagenetmini-raw.ckpt'"
   ]
  },
  {
   "cell_type": "code",
   "execution_count": null,
   "metadata": {},
   "outputs": [],
   "source": [
    "trainer.save_checkpoint(\"resnet50-imagenetmini-raw.ckpt\")"
   ]
  },
  {
   "cell_type": "markdown",
   "metadata": {},
   "source": [
    "---\n",
    "### Evaluating models"
   ]
  },
  {
   "cell_type": "code",
   "execution_count": null,
   "metadata": {},
   "outputs": [],
   "source": [
    "torch.set_float32_matmul_precision('high')"
   ]
  },
  {
   "cell_type": "code",
   "execution_count": null,
   "metadata": {},
   "outputs": [],
   "source": [
    "CKPT_PATH = 'resnet50-imagenetmini-raw-SD-augmented-2.ckpt'"
   ]
  },
  {
   "cell_type": "code",
   "execution_count": null,
   "metadata": {},
   "outputs": [],
   "source": [
    "test_loader = DataLoader(test_dataset, BATCH_SIZE, num_workers=4)"
   ]
  },
  {
   "cell_type": "code",
   "execution_count": null,
   "metadata": {},
   "outputs": [],
   "source": [
    "y = np.array([test_dataset[i][1] for i in range(len(test_dataset))])"
   ]
  },
  {
   "cell_type": "code",
   "execution_count": null,
   "metadata": {},
   "outputs": [],
   "source": [
    "#loaded_model = ResnetClassifier.load_from_checkpoint(checkpoint_path=CKPT_PATH)\n",
    "loaded_model = ResnetClassifier(50)\n",
    "checkpoint = torch.load(CKPT_PATH)\n",
    "loaded_model.load_state_dict(checkpoint[\"state_dict\"])"
   ]
  },
  {
   "cell_type": "code",
   "execution_count": null,
   "metadata": {},
   "outputs": [],
   "source": [
    "trainer = L.Trainer(callbacks=[L.pytorch.callbacks.EarlyStopping(monitor=\"val_loss\", mode=\"min\")], max_epochs=80)"
   ]
  },
  {
   "cell_type": "code",
   "execution_count": null,
   "metadata": {},
   "outputs": [],
   "source": [
    "trainer.test(loaded_model, train_loader)"
   ]
  },
  {
   "cell_type": "code",
   "execution_count": null,
   "metadata": {
    "scrolled": true
   },
   "outputs": [],
   "source": [
    "trainer.test(loaded_model, val_loader)"
   ]
  },
  {
   "cell_type": "code",
   "execution_count": null,
   "metadata": {},
   "outputs": [],
   "source": [
    "trainer.test(loaded_model, test_loader)"
   ]
  },
  {
   "cell_type": "markdown",
   "metadata": {},
   "source": [
    "---"
   ]
  },
  {
   "cell_type": "markdown",
   "metadata": {},
   "source": [
    "### Automating Evaluation"
   ]
  },
  {
   "cell_type": "code",
   "execution_count": null,
   "metadata": {
    "scrolled": true
   },
   "outputs": [],
   "source": [
    "!mamba install scikit-learn -y"
   ]
  },
  {
   "cell_type": "code",
   "execution_count": 13,
   "metadata": {},
   "outputs": [],
   "source": [
    "torch.set_float32_matmul_precision('high')"
   ]
  },
  {
   "cell_type": "code",
   "execution_count": 14,
   "metadata": {},
   "outputs": [],
   "source": [
    "from sklearn.metrics import f1_score, accuracy_score, precision_score, recall_score"
   ]
  },
  {
   "cell_type": "code",
   "execution_count": 15,
   "metadata": {},
   "outputs": [],
   "source": [
    "BATCH_SIZE = 64\n",
    "test_loader = DataLoader(test_dataset, BATCH_SIZE, num_workers=4)\n",
    "# train_whole_loader = DataLoader(train_whole_dataset, BATCH_SIZE)\n",
    "val_loader = DataLoader(val_dataset, BATCH_SIZE, num_workers=4)"
   ]
  },
  {
   "cell_type": "code",
   "execution_count": 21,
   "metadata": {},
   "outputs": [],
   "source": [
    "y = test_dataset.targets\n",
    "# y_train = train_whole_dataset.targets\n",
    "y_val = np.array([val_dataset[i][1] for i in range(len(val_dataset))])"
   ]
  },
  {
   "cell_type": "code",
   "execution_count": 17,
   "metadata": {},
   "outputs": [],
   "source": [
    "def get_test_preds(loaded_model, test_loader):\n",
    "    trainer = L.Trainer()\n",
    "    loaded_model.freeze()\n",
    "\n",
    "    predictions_list = trainer.predict(loaded_model, test_loader) # 30-len list of 32 x 20 tensors\n",
    "    predictions = torch.vstack(predictions_list).numpy() # 952 x 20\n",
    "    top_preds = predictions.argmax(axis=1).flatten()\n",
    "\n",
    "    return top_preds, predictions\n",
    "\n",
    "def top_preds(all_predictions):\n",
    "    return (\n",
    "        np.argsort(all_predictions, axis=1)[:, -5:],\n",
    "        np.argsort(all_predictions, axis=1)[:, -3:]\n",
    "    )\n",
    "\n",
    "def get_topk_accuracy(top_preds, ground_truths):\n",
    "    ground_truths = np.array(ground_truths)\n",
    "    #check if ground truth class lies somewhere in the top k\n",
    "    #check if any of the top 5 predicted classes match the ground truth class\n",
    "    # print(top_preds.shape)\n",
    "    ground_truths = ground_truths.reshape(-1, 1)\n",
    "    matches = np.any(top_preds == ground_truths, axis=1)\n",
    "\n",
    "    # Count the number of matches\n",
    "    num_matches = np.sum(matches)\n",
    "    # print(num_matches)\n",
    "\n",
    "    # Calculate the percentage of images where at least one of the top 5 predictions matches the ground truth\n",
    "    percentage_matches = (num_matches / top_preds.shape[0]) * 100\n",
    "    return percentage_matches\n",
    "\n",
    "def performance_metrics(predictions, ground_truth, metric_type=\"Test\"):\n",
    "    accuracy = accuracy_score(ground_truth, predictions)\n",
    "    recall = recall_score(ground_truth, predictions, average='weighted')\n",
    "    precision = precision_score(ground_truth, predictions, average='weighted')\n",
    "    f1 = f1_score(ground_truth, predictions, average='weighted')\n",
    "\n",
    "    print(f\"{metric_type} Accuracy: {accuracy}\")\n",
    "    print(f\"{metric_type} Recall: {recall}\")\n",
    "    print(f\"{metric_type} Precision: {precision}\")\n",
    "    print(f\"{metric_type} F1 Score: {f1}\")"
   ]
  },
  {
   "cell_type": "code",
   "execution_count": 18,
   "metadata": {},
   "outputs": [],
   "source": [
    "CKPTS = [\n",
    "    \"resnet50-imagenetmini-raw.ckpt\",\n",
    "    \"resnet50-imagenetmini-raw-SD-only.ckpt\",\n",
    "    \"resnet50-imagenetmini-raw-SD-augmented.ckpt\",\n",
    "    \"resnet50-imagenetmini-raw-SD-augmented-2.ckpt\",\n",
    "]"
   ]
  },
  {
   "cell_type": "code",
   "execution_count": 23,
   "metadata": {},
   "outputs": [
    {
     "name": "stdout",
     "output_type": "stream",
     "text": [
      "---resnet50-imagenetmini-raw.ckpt---\n"
     ]
    },
    {
     "name": "stderr",
     "output_type": "stream",
     "text": [
      "GPU available: True (cuda), used: True\n",
      "TPU available: False, using: 0 TPU cores\n",
      "IPU available: False, using: 0 IPUs\n",
      "HPU available: False, using: 0 HPUs\n",
      "LOCAL_RANK: 0 - CUDA_VISIBLE_DEVICES: [0]\n",
      "SLURM auto-requeueing enabled. Setting signal handlers.\n"
     ]
    },
    {
     "data": {
      "application/vnd.jupyter.widget-view+json": {
       "model_id": "20b72a5567184ad38cf8eee2ba2546e5",
       "version_major": 2,
       "version_minor": 0
      },
      "text/plain": [
       "Predicting: |          | 0/? [00:00<?, ?it/s]"
      ]
     },
     "metadata": {},
     "output_type": "display_data"
    },
    {
     "name": "stdout",
     "output_type": "stream",
     "text": [
      "acc@5 (top 5): 11.419831761407085\n",
      "acc@3 (top 3): 8.233494774407342\n",
      "Test Accuracy: 0.036961509049197046\n",
      "Test Recall: 0.036961509049197046\n",
      "Test Precision: 0.029064363131703703\n",
      "Test F1 Score: 0.025455297923017692\n",
      "\n",
      "---resnet50-imagenetmini-raw-SD-only.ckpt---\n"
     ]
    },
    {
     "name": "stderr",
     "output_type": "stream",
     "text": [
      "/storage/ice1/5/4/rso31/miniforge3/envs/cv_env/lib/python3.12/site-packages/sklearn/metrics/_classification.py:1509: UndefinedMetricWarning: Precision is ill-defined and being set to 0.0 in labels with no predicted samples. Use `zero_division` parameter to control this behavior.\n",
      "  _warn_prf(average, modifier, f\"{metric.capitalize()} is\", len(result))\n",
      "GPU available: True (cuda), used: True\n",
      "TPU available: False, using: 0 TPU cores\n",
      "IPU available: False, using: 0 IPUs\n",
      "HPU available: False, using: 0 HPUs\n",
      "LOCAL_RANK: 0 - CUDA_VISIBLE_DEVICES: [0]\n",
      "SLURM auto-requeueing enabled. Setting signal handlers.\n"
     ]
    },
    {
     "data": {
      "application/vnd.jupyter.widget-view+json": {
       "model_id": "2731084d6f8d4aa3b4614a7fe752c513",
       "version_major": 2,
       "version_minor": 0
      },
      "text/plain": [
       "Predicting: |          | 0/? [00:00<?, ?it/s]"
      ]
     },
     "metadata": {},
     "output_type": "display_data"
    },
    {
     "name": "stdout",
     "output_type": "stream",
     "text": [
      "acc@5 (top 5): 4.511853173591639\n",
      "acc@3 (top 3): 3.2373183787917412\n",
      "Test Accuracy: 0.013510068824878919\n",
      "Test Recall: 0.013510068824878919\n",
      "Test Precision: 0.012859353017196767\n",
      "Test F1 Score: 0.009902197065871457\n",
      "\n",
      "---resnet50-imagenetmini-raw-SD-augmented.ckpt---\n"
     ]
    },
    {
     "name": "stderr",
     "output_type": "stream",
     "text": [
      "/storage/ice1/5/4/rso31/miniforge3/envs/cv_env/lib/python3.12/site-packages/sklearn/metrics/_classification.py:1509: UndefinedMetricWarning: Precision is ill-defined and being set to 0.0 in labels with no predicted samples. Use `zero_division` parameter to control this behavior.\n",
      "  _warn_prf(average, modifier, f\"{metric.capitalize()} is\", len(result))\n",
      "GPU available: True (cuda), used: True\n",
      "TPU available: False, using: 0 TPU cores\n",
      "IPU available: False, using: 0 IPUs\n",
      "HPU available: False, using: 0 HPUs\n",
      "LOCAL_RANK: 0 - CUDA_VISIBLE_DEVICES: [0]\n",
      "SLURM auto-requeueing enabled. Setting signal handlers.\n"
     ]
    },
    {
     "data": {
      "application/vnd.jupyter.widget-view+json": {
       "model_id": "2a20db465f1844f79ffd23ba15c280a7",
       "version_major": 2,
       "version_minor": 0
      },
      "text/plain": [
       "Predicting: |          | 0/? [00:00<?, ?it/s]"
      ]
     },
     "metadata": {},
     "output_type": "display_data"
    },
    {
     "name": "stdout",
     "output_type": "stream",
     "text": [
      "acc@5 (top 5): 20.469028804486364\n",
      "acc@3 (top 3): 15.166964058118786\n",
      "Test Accuracy: 0.07723680856487382\n",
      "Test Recall: 0.07723680856487382\n",
      "Test Precision: 0.07879437079020538\n",
      "Test F1 Score: 0.06602193894976481\n",
      "\n",
      "---resnet50-imagenetmini-raw-SD-augmented-2.ckpt---\n"
     ]
    },
    {
     "name": "stderr",
     "output_type": "stream",
     "text": [
      "/storage/ice1/5/4/rso31/miniforge3/envs/cv_env/lib/python3.12/site-packages/sklearn/metrics/_classification.py:1509: UndefinedMetricWarning: Precision is ill-defined and being set to 0.0 in labels with no predicted samples. Use `zero_division` parameter to control this behavior.\n",
      "  _warn_prf(average, modifier, f\"{metric.capitalize()} is\", len(result))\n",
      "GPU available: True (cuda), used: True\n",
      "TPU available: False, using: 0 TPU cores\n",
      "IPU available: False, using: 0 IPUs\n",
      "HPU available: False, using: 0 HPUs\n",
      "LOCAL_RANK: 0 - CUDA_VISIBLE_DEVICES: [0]\n",
      "SLURM auto-requeueing enabled. Setting signal handlers.\n"
     ]
    },
    {
     "data": {
      "application/vnd.jupyter.widget-view+json": {
       "model_id": "58e553c6e282488da75b0330f3ec298b",
       "version_major": 2,
       "version_minor": 0
      },
      "text/plain": [
       "Predicting: |          | 0/? [00:00<?, ?it/s]"
      ]
     },
     "metadata": {},
     "output_type": "display_data"
    },
    {
     "name": "stdout",
     "output_type": "stream",
     "text": [
      "acc@5 (top 5): 18.37879174101453\n",
      "acc@3 (top 3): 13.535559520774918\n",
      "Test Accuracy: 0.06066785623247515\n",
      "Test Recall: 0.06066785623247515\n",
      "Test Precision: 0.0596396036438425\n",
      "Test F1 Score: 0.05019554290424637\n",
      "\n"
     ]
    },
    {
     "name": "stderr",
     "output_type": "stream",
     "text": [
      "/storage/ice1/5/4/rso31/miniforge3/envs/cv_env/lib/python3.12/site-packages/sklearn/metrics/_classification.py:1509: UndefinedMetricWarning: Precision is ill-defined and being set to 0.0 in labels with no predicted samples. Use `zero_division` parameter to control this behavior.\n",
      "  _warn_prf(average, modifier, f\"{metric.capitalize()} is\", len(result))\n"
     ]
    }
   ],
   "source": [
    "for ckpt in CKPTS:\n",
    "    print(f\"---{ckpt}---\")\n",
    "    loaded_model = ResnetClassifier(50)\n",
    "    checkpoint = torch.load(ckpt)\n",
    "    loaded_model.load_state_dict(checkpoint[\"state_dict\"])\n",
    "    resnet_pred, resnet_all_pred = get_test_preds(loaded_model, test_loader)\n",
    "    \n",
    "    resnet_top5, resnet_top3 = top_preds(resnet_all_pred)\n",
    "    print(f\"acc@5 (top 5): {get_topk_accuracy(resnet_top5, y)}\")\n",
    "    print(f\"acc@3 (top 3): {get_topk_accuracy(resnet_top3, y)}\")\n",
    "    \n",
    "    performance_metrics(resnet_pred, y)\n",
    "    print()"
   ]
  },
  {
   "cell_type": "code",
   "execution_count": 23,
   "metadata": {},
   "outputs": [
    {
     "name": "stdout",
     "output_type": "stream",
     "text": [
      "---resnet50-imagenetmini-raw.ckpt---\n"
     ]
    },
    {
     "name": "stderr",
     "output_type": "stream",
     "text": [
      "GPU available: True (cuda), used: True\n",
      "TPU available: False, using: 0 TPU cores\n",
      "IPU available: False, using: 0 IPUs\n",
      "HPU available: False, using: 0 HPUs\n",
      "LOCAL_RANK: 0 - CUDA_VISIBLE_DEVICES: [0]\n",
      "SLURM auto-requeueing enabled. Setting signal handlers.\n"
     ]
    },
    {
     "data": {
      "application/vnd.jupyter.widget-view+json": {
       "model_id": "901e767dd448494bb71f7909bab22993",
       "version_major": 2,
       "version_minor": 0
      },
      "text/plain": [
       "Predicting: |          | 0/? [00:00<?, ?it/s]"
      ]
     },
     "metadata": {},
     "output_type": "display_data"
    },
    {
     "name": "stdout",
     "output_type": "stream",
     "text": [
      "acc@5 (top 5): 23.51755900978699\n",
      "acc@3 (top 3): 18.07714450201497\n",
      "Val Accuracy: 0.08347725964306275\n",
      "Val Recall: 0.08347725964306275\n",
      "Val Precision: 0.0855904093840094\n",
      "Val F1 Score: 0.065577967596862\n",
      "\n",
      "---resnet50-imagenetmini-raw-SD-only.ckpt---\n"
     ]
    },
    {
     "name": "stderr",
     "output_type": "stream",
     "text": [
      "/storage/ice1/5/4/rso31/miniforge3/envs/cv_env/lib/python3.12/site-packages/sklearn/metrics/_classification.py:1509: UndefinedMetricWarning: Recall is ill-defined and being set to 0.0 in labels with no true samples. Use `zero_division` parameter to control this behavior.\n",
      "  _warn_prf(average, modifier, f\"{metric.capitalize()} is\", len(result))\n",
      "/storage/ice1/5/4/rso31/miniforge3/envs/cv_env/lib/python3.12/site-packages/sklearn/metrics/_classification.py:1509: UndefinedMetricWarning: Precision is ill-defined and being set to 0.0 in labels with no predicted samples. Use `zero_division` parameter to control this behavior.\n",
      "  _warn_prf(average, modifier, f\"{metric.capitalize()} is\", len(result))\n",
      "GPU available: True (cuda), used: True\n",
      "TPU available: False, using: 0 TPU cores\n",
      "IPU available: False, using: 0 IPUs\n",
      "HPU available: False, using: 0 HPUs\n",
      "LOCAL_RANK: 0 - CUDA_VISIBLE_DEVICES: [0]\n",
      "SLURM auto-requeueing enabled. Setting signal handlers.\n"
     ]
    },
    {
     "data": {
      "application/vnd.jupyter.widget-view+json": {
       "model_id": "dbeadb6741a84839a8abc6a71b9056bd",
       "version_major": 2,
       "version_minor": 0
      },
      "text/plain": [
       "Predicting: |          | 0/? [00:00<?, ?it/s]"
      ]
     },
     "metadata": {},
     "output_type": "display_data"
    },
    {
     "name": "stdout",
     "output_type": "stream",
     "text": [
      "acc@5 (top 5): 4.864709268854347\n",
      "acc@3 (top 3): 3.3390903857225105\n",
      "Val Accuracy: 0.013241220495106506\n",
      "Val Recall: 0.013241220495106506\n",
      "Val Precision: 0.015230656951810747\n",
      "Val F1 Score: 0.011305410142877035\n",
      "\n",
      "---resnet50-imagenetmini-raw-SD-augmented.ckpt---\n"
     ]
    },
    {
     "name": "stderr",
     "output_type": "stream",
     "text": [
      "/storage/ice1/5/4/rso31/miniforge3/envs/cv_env/lib/python3.12/site-packages/sklearn/metrics/_classification.py:1509: UndefinedMetricWarning: Recall is ill-defined and being set to 0.0 in labels with no true samples. Use `zero_division` parameter to control this behavior.\n",
      "  _warn_prf(average, modifier, f\"{metric.capitalize()} is\", len(result))\n",
      "/storage/ice1/5/4/rso31/miniforge3/envs/cv_env/lib/python3.12/site-packages/sklearn/metrics/_classification.py:1509: UndefinedMetricWarning: Precision is ill-defined and being set to 0.0 in labels with no predicted samples. Use `zero_division` parameter to control this behavior.\n",
      "  _warn_prf(average, modifier, f\"{metric.capitalize()} is\", len(result))\n",
      "GPU available: True (cuda), used: True\n",
      "TPU available: False, using: 0 TPU cores\n",
      "IPU available: False, using: 0 IPUs\n",
      "HPU available: False, using: 0 HPUs\n",
      "LOCAL_RANK: 0 - CUDA_VISIBLE_DEVICES: [0]\n",
      "SLURM auto-requeueing enabled. Setting signal handlers.\n"
     ]
    },
    {
     "data": {
      "application/vnd.jupyter.widget-view+json": {
       "model_id": "c0f102ed951444e2b6240e81505783f1",
       "version_major": 2,
       "version_minor": 0
      },
      "text/plain": [
       "Predicting: |          | 0/? [00:00<?, ?it/s]"
      ]
     },
     "metadata": {},
     "output_type": "display_data"
    },
    {
     "name": "stdout",
     "output_type": "stream",
     "text": [
      "acc@5 (top 5): 66.2636729994243\n",
      "acc@3 (top 3): 58.693149107656886\n",
      "Val Accuracy: 0.41508347725964306\n",
      "Val Recall: 0.41508347725964306\n",
      "Val Precision: 0.4849336686187748\n",
      "Val F1 Score: 0.4037153090725819\n",
      "\n",
      "---resnet50-imagenetmini-raw-SD-augmented-2.ckpt---\n"
     ]
    },
    {
     "name": "stderr",
     "output_type": "stream",
     "text": [
      "/storage/ice1/5/4/rso31/miniforge3/envs/cv_env/lib/python3.12/site-packages/sklearn/metrics/_classification.py:1509: UndefinedMetricWarning: Recall is ill-defined and being set to 0.0 in labels with no true samples. Use `zero_division` parameter to control this behavior.\n",
      "  _warn_prf(average, modifier, f\"{metric.capitalize()} is\", len(result))\n",
      "/storage/ice1/5/4/rso31/miniforge3/envs/cv_env/lib/python3.12/site-packages/sklearn/metrics/_classification.py:1509: UndefinedMetricWarning: Precision is ill-defined and being set to 0.0 in labels with no predicted samples. Use `zero_division` parameter to control this behavior.\n",
      "  _warn_prf(average, modifier, f\"{metric.capitalize()} is\", len(result))\n",
      "GPU available: True (cuda), used: True\n",
      "TPU available: False, using: 0 TPU cores\n",
      "IPU available: False, using: 0 IPUs\n",
      "HPU available: False, using: 0 HPUs\n",
      "LOCAL_RANK: 0 - CUDA_VISIBLE_DEVICES: [0]\n",
      "SLURM auto-requeueing enabled. Setting signal handlers.\n"
     ]
    },
    {
     "data": {
      "application/vnd.jupyter.widget-view+json": {
       "model_id": "b70adc4ce73948059ac9509a34c7345a",
       "version_major": 2,
       "version_minor": 0
      },
      "text/plain": [
       "Predicting: |          | 0/? [00:00<?, ?it/s]"
      ]
     },
     "metadata": {},
     "output_type": "display_data"
    },
    {
     "name": "stdout",
     "output_type": "stream",
     "text": [
      "acc@5 (top 5): 50.77720207253886\n",
      "acc@3 (top 3): 42.74611398963731\n",
      "Val Accuracy: 0.2645365572826713\n",
      "Val Recall: 0.2645365572826713\n",
      "Val Precision: 0.31281753297661347\n",
      "Val F1 Score: 0.2500595773058515\n",
      "\n"
     ]
    },
    {
     "name": "stderr",
     "output_type": "stream",
     "text": [
      "/storage/ice1/5/4/rso31/miniforge3/envs/cv_env/lib/python3.12/site-packages/sklearn/metrics/_classification.py:1509: UndefinedMetricWarning: Recall is ill-defined and being set to 0.0 in labels with no true samples. Use `zero_division` parameter to control this behavior.\n",
      "  _warn_prf(average, modifier, f\"{metric.capitalize()} is\", len(result))\n",
      "/storage/ice1/5/4/rso31/miniforge3/envs/cv_env/lib/python3.12/site-packages/sklearn/metrics/_classification.py:1509: UndefinedMetricWarning: Precision is ill-defined and being set to 0.0 in labels with no predicted samples. Use `zero_division` parameter to control this behavior.\n",
      "  _warn_prf(average, modifier, f\"{metric.capitalize()} is\", len(result))\n"
     ]
    }
   ],
   "source": [
    "for ckpt in CKPTS:\n",
    "    print(f\"---{ckpt}---\")\n",
    "    loaded_model = ResnetClassifier(50)\n",
    "    checkpoint = torch.load(ckpt)\n",
    "    loaded_model.load_state_dict(checkpoint[\"state_dict\"])\n",
    "    resnet_pred, resnet_all_pred = get_test_preds(loaded_model, val_loader)\n",
    "    \n",
    "    resnet_top5, resnet_top3 = top_preds(resnet_all_pred)\n",
    "    print(f\"acc@5 (top 5): {get_topk_accuracy(resnet_top5, y_val)}\")\n",
    "    print(f\"acc@3 (top 3): {get_topk_accuracy(resnet_top3, y_val)}\")\n",
    "    \n",
    "    performance_metrics(resnet_pred, y_val, metric_type=\"Val\")\n",
    "    print()"
   ]
  },
  {
   "cell_type": "code",
   "execution_count": null,
   "metadata": {},
   "outputs": [],
   "source": []
  }
 ],
 "metadata": {
  "kernelspec": {
   "display_name": "Python 3 (ipykernel)",
   "language": "python",
   "name": "python3"
  },
  "language_info": {
   "codemirror_mode": {
    "name": "ipython",
    "version": 3
   },
   "file_extension": ".py",
   "mimetype": "text/x-python",
   "name": "python",
   "nbconvert_exporter": "python",
   "pygments_lexer": "ipython3",
   "version": "3.12.2"
  }
 },
 "nbformat": 4,
 "nbformat_minor": 4
}
