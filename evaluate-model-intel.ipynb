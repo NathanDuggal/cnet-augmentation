{
 "cells": [
  {
   "cell_type": "code",
   "execution_count": 1,
   "id": "3081ce63-f4c4-4d0f-bfef-477f38208ef8",
   "metadata": {},
   "outputs": [],
   "source": [
    "import pandas as pd\n",
    "import numpy as np\n",
    "from skimage import io, transform\n",
    "\n",
    "import torch\n",
    "import torch.nn as nn\n",
    "from torch.utils.data import Dataset, DataLoader, random_split, ConcatDataset\n",
    "from torchvision import transforms, utils, models\n",
    "import torchvision as tv\n",
    "from torchvision.transforms import v2\n",
    "\n",
    "import lightning as L\n",
    "import torchmetrics as tm\n",
    "import torch.nn.functional as F\n",
    "\n",
    "from IPython.display import clear_output\n",
    "\n",
    "import os"
   ]
  },
  {
   "cell_type": "code",
   "execution_count": 2,
   "id": "4245639a-a23f-47fe-bd72-70c27860354e",
   "metadata": {},
   "outputs": [
    {
     "name": "stderr",
     "output_type": "stream",
     "text": [
      "[rank: 0] Seed set to 42\n"
     ]
    },
    {
     "data": {
      "text/plain": [
       "42"
      ]
     },
     "execution_count": 2,
     "metadata": {},
     "output_type": "execute_result"
    }
   ],
   "source": [
    "L.seed_everything(42)"
   ]
  },
  {
   "cell_type": "markdown",
   "id": "5eafc287-7597-4e51-855e-3834b8d958f9",
   "metadata": {},
   "source": [
    "### Creating the dataset and dataloader from `intel-image-classification`"
   ]
  },
  {
   "cell_type": "code",
   "execution_count": 3,
   "id": "2fa00ddd-a8f2-4db0-8608-f2ba1e56f71f",
   "metadata": {},
   "outputs": [],
   "source": [
    "# convert PIL image into torch Tensor then does specified transforms from docs: \n",
    "# https://pytorch.org/vision/main/models/generated/torchvision.models.resnet50.html\n",
    "ds_transforms = v2.Compose([\n",
    "    v2.ToImage(),\n",
    "    v2.Resize(256),\n",
    "    v2.CenterCrop(224),\n",
    "    v2.ToDtype(torch.float32, scale=True),\n",
    "    v2.Normalize([0.485, 0.456, 0.406], [0.229, 0.224, 0.225])\n",
    "])"
   ]
  },
  {
   "cell_type": "code",
   "execution_count": 4,
   "id": "2a36b629-20e2-4b34-b83e-835d731f146c",
   "metadata": {},
   "outputs": [],
   "source": [
    "test_dataset = tv.datasets.ImageFolder(\"intel-image-classification/seg_test/seg_test\", transform=ds_transforms)"
   ]
  },
  {
   "cell_type": "code",
   "execution_count": 5,
   "id": "e2f9b50b-d6d7-466d-adbd-a5c1e4933ef0",
   "metadata": {},
   "outputs": [
    {
     "data": {
      "text/plain": [
       "Dataset ImageFolder\n",
       "    Number of datapoints: 3000\n",
       "    Root location: intel-image-classification/seg_test/seg_test\n",
       "    StandardTransform\n",
       "Transform: Compose(\n",
       "                 ToImage()\n",
       "                 Resize(size=[256], interpolation=InterpolationMode.BILINEAR, antialias=True)\n",
       "                 CenterCrop(size=(224, 224))\n",
       "                 ToDtype(scale=True)\n",
       "                 Normalize(mean=[0.485, 0.456, 0.406], std=[0.229, 0.224, 0.225], inplace=False)\n",
       "           )"
      ]
     },
     "execution_count": 5,
     "metadata": {},
     "output_type": "execute_result"
    }
   ],
   "source": [
    "test_dataset"
   ]
  },
  {
   "cell_type": "code",
   "execution_count": 6,
   "id": "c6066de3-4856-4b6f-972d-eed62db4ea9e",
   "metadata": {},
   "outputs": [],
   "source": [
    "test_dataset, val_dataset = random_split(test_dataset, [.5, .5], generator=torch.Generator().manual_seed(42))"
   ]
  },
  {
   "cell_type": "markdown",
   "id": "d2c410cc-7a42-4bc8-9af8-3bf023a2a653",
   "metadata": {},
   "source": [
    "---\n",
    "## Create Classifier Class and Feature Extractors"
   ]
  },
  {
   "cell_type": "code",
   "execution_count": 21,
   "id": "493c7bb4-ba26-410c-8d9b-711b73276f8b",
   "metadata": {},
   "outputs": [],
   "source": [
    "feature_extractors = {}"
   ]
  },
  {
   "cell_type": "code",
   "execution_count": 22,
   "id": "94c772fc-d981-42f6-84fb-4403802b6292",
   "metadata": {},
   "outputs": [],
   "source": [
    "# create resnet50 feature extractor\n",
    "resnet50 = models.resnet50(weights=models.ResNet50_Weights.DEFAULT)\n",
    "resnet50.eval()\n",
    "resnet50_backbone = list(resnet50.children())[:-1]\n",
    "resnet50_feat_extractor = nn.Sequential(*resnet50_backbone)\n",
    "feature_extractors['resnet50'] = resnet50_feat_extractor\n",
    "clear_output()"
   ]
  },
  {
   "cell_type": "code",
   "execution_count": 23,
   "id": "0167e902-2c55-4e40-9a40-7de0598013d6",
   "metadata": {},
   "outputs": [],
   "source": [
    "class IntelClassifier(L.LightningModule):\n",
    "    def __init__(self, feature_extractor_name, output_features, num_classes, classifier=None, optimizer=torch.optim.Adam, lr=1e-2):\n",
    "        super().__init__()\n",
    "        self.save_hyperparameters()\n",
    "        if feature_extractor_name not in feature_extractors:\n",
    "            raise ValueError(f\"`feature_extractor_name` argument is invalid (should be one of {list(feature_extractors.keys())})\")\n",
    "        self.feature_extractor = feature_extractors[feature_extractor_name]\n",
    "        self.classifier = classifier if classifier else nn.Sequential( # classifier layers after the feature extraction\n",
    "            nn.Linear(output_features, 512),\n",
    "            nn.LeakyReLU(),\n",
    "            nn.Dropout(.2),\n",
    "            nn.Linear(512, num_classes)\n",
    "        )\n",
    "        self.accuracy = tm.classification.Accuracy(task=\"multiclass\", num_classes=num_classes)\n",
    "        self.optimizer = optimizer\n",
    "        self.lr = lr\n",
    "\n",
    "    def forward(self, x):\n",
    "        self.feature_extractor.eval()\n",
    "        with torch.no_grad():\n",
    "            features = self.feature_extractor(x).flatten(1)\n",
    "        return self.classifier(features)\n",
    "\n",
    "    def _batch_step(self, batch, batch_kind):\n",
    "        if batch_kind == 'train':\n",
    "            self.classifier.train()\n",
    "        else:\n",
    "            self.classifier.eval()\n",
    "        x, y = batch\n",
    "        y_hat = self(x)\n",
    "        loss = F.cross_entropy(y_hat, y)\n",
    "        acc = self.accuracy(y_hat, y)\n",
    "        # logging onto tensorboard\n",
    "        self.log(f\"{batch_kind}_loss\", loss, prog_bar=True)\n",
    "        self.log(f\"{batch_kind}_acc_f1\", acc, prog_bar=True)\n",
    "        return loss\n",
    "\n",
    "    def training_step(self, batch, batch_idx):\n",
    "        return self._batch_step(batch, 'train')\n",
    "\n",
    "    def validation_step(self, batch, batch_idx):\n",
    "        return self._batch_step(batch, 'val')\n",
    "\n",
    "    def test_step(self, batch, batch_idx):\n",
    "        return self._batch_step(batch, 'test')\n",
    "\n",
    "    def predict_step(self, batch, batch_idx):\n",
    "        self.eval()\n",
    "        x, _ = batch\n",
    "        return self(x)\n",
    "    \n",
    "    def configure_optimizers(self):\n",
    "        optimizer = self.optimizer(self.parameters(), lr=self.lr)\n",
    "        return optimizer"
   ]
  },
  {
   "cell_type": "markdown",
   "id": "153e5c08-e803-48fa-92e8-405a1af97779",
   "metadata": {},
   "source": [
    "---\n",
    "### Evaluating models"
   ]
  },
  {
   "cell_type": "code",
   "execution_count": 7,
   "id": "2cb35ace-3923-4a01-9654-70e439c37a1f",
   "metadata": {},
   "outputs": [],
   "source": [
    "torch.set_float32_matmul_precision('high')"
   ]
  },
  {
   "cell_type": "code",
   "execution_count": 9,
   "id": "ef28660b-8ac5-44e8-89d0-42c66c86319b",
   "metadata": {},
   "outputs": [],
   "source": [
    "BATCH_SIZE=64"
   ]
  },
  {
   "cell_type": "code",
   "execution_count": 10,
   "id": "046f9b96-6940-41a3-a792-2046b182178e",
   "metadata": {},
   "outputs": [],
   "source": [
    "test_loader = DataLoader(test_dataset, BATCH_SIZE, num_workers=4)\n",
    "val_loader = DataLoader(val_dataset, BATCH_SIZE, num_workers=4)"
   ]
  },
  {
   "cell_type": "code",
   "execution_count": 17,
   "id": "4c2a6bed-6cda-46b8-b6ac-054aac9b3d27",
   "metadata": {},
   "outputs": [],
   "source": [
    "CKPT_PATH = 'resnet50-intel-raw-fulltrain.ckpt'"
   ]
  },
  {
   "cell_type": "code",
   "execution_count": 18,
   "id": "a1b75812-8870-44cc-b71c-3cd6039bd2db",
   "metadata": {},
   "outputs": [],
   "source": [
    "y = np.array([test_dataset[i][1] for i in range(len(test_dataset))])"
   ]
  },
  {
   "cell_type": "code",
   "execution_count": 19,
   "id": "221e6d6e-cdf5-4f11-af25-f5bed14b79ce",
   "metadata": {},
   "outputs": [],
   "source": [
    "loaded_model = IntelClassifier.load_from_checkpoint(checkpoint_path=CKPT_PATH)\n",
    "# loaded_model = ResnetClassifier(50)\n",
    "# checkpoint = torch.load(CKPT_PATH)\n",
    "# loaded_model.load_state_dict(checkpoint[\"state_dict\"])"
   ]
  },
  {
   "cell_type": "code",
   "execution_count": 20,
   "id": "65223c48-83ca-429c-89f9-47f08dbc62ee",
   "metadata": {},
   "outputs": [
    {
     "name": "stderr",
     "output_type": "stream",
     "text": [
      "GPU available: True (cuda), used: True\n",
      "TPU available: False, using: 0 TPU cores\n",
      "IPU available: False, using: 0 IPUs\n",
      "HPU available: False, using: 0 HPUs\n"
     ]
    }
   ],
   "source": [
    "trainer = L.Trainer(callbacks=[L.pytorch.callbacks.EarlyStopping(monitor=\"val_loss\", mode=\"min\", patience=5)], max_epochs=50)"
   ]
  },
  {
   "cell_type": "code",
   "execution_count": 22,
   "id": "b092dcfc-b3db-4f65-abfe-156c2ba5873c",
   "metadata": {
    "scrolled": true
   },
   "outputs": [
    {
     "name": "stderr",
     "output_type": "stream",
     "text": [
      "LOCAL_RANK: 0 - CUDA_VISIBLE_DEVICES: [0]\n",
      "SLURM auto-requeueing enabled. Setting signal handlers.\n"
     ]
    },
    {
     "data": {
      "application/vnd.jupyter.widget-view+json": {
       "model_id": "dc362597283d4dac96f61d96a77ee268",
       "version_major": 2,
       "version_minor": 0
      },
      "text/plain": [
       "Testing: |                                                | 0/? [00:00<?, ?it/s]"
      ]
     },
     "metadata": {},
     "output_type": "display_data"
    },
    {
     "name": "stdout",
     "output_type": "stream",
     "text": [
      "────────────────────────────────────────────────────────────────────────────────────────────────────────────────────────\n",
      "       Test metric             DataLoader 0\n",
      "────────────────────────────────────────────────────────────────────────────────────────────────────────────────────────\n",
      "       test_acc_f1          0.9300000071525574\n",
      "        test_loss           0.18530550599098206\n",
      "────────────────────────────────────────────────────────────────────────────────────────────────────────────────────────\n"
     ]
    },
    {
     "data": {
      "text/plain": [
       "[{'test_loss': 0.18530550599098206, 'test_acc_f1': 0.9300000071525574}]"
      ]
     },
     "execution_count": 22,
     "metadata": {},
     "output_type": "execute_result"
    }
   ],
   "source": [
    "trainer.test(loaded_model, val_loader)"
   ]
  },
  {
   "cell_type": "code",
   "execution_count": 23,
   "id": "0a5823a7-1345-4a1d-b4c7-f7c4b6c480a0",
   "metadata": {},
   "outputs": [
    {
     "name": "stderr",
     "output_type": "stream",
     "text": [
      "LOCAL_RANK: 0 - CUDA_VISIBLE_DEVICES: [0]\n",
      "SLURM auto-requeueing enabled. Setting signal handlers.\n"
     ]
    },
    {
     "data": {
      "application/vnd.jupyter.widget-view+json": {
       "model_id": "4edcc30ca09d4607a9a63aa443ee2179",
       "version_major": 2,
       "version_minor": 0
      },
      "text/plain": [
       "Testing: |                                                | 0/? [00:00<?, ?it/s]"
      ]
     },
     "metadata": {},
     "output_type": "display_data"
    },
    {
     "name": "stdout",
     "output_type": "stream",
     "text": [
      "────────────────────────────────────────────────────────────────────────────────────────────────────────────────────────\n",
      "       Test metric             DataLoader 0\n",
      "────────────────────────────────────────────────────────────────────────────────────────────────────────────────────────\n",
      "       test_acc_f1          0.9313333034515381\n",
      "        test_loss           0.17001409828662872\n",
      "────────────────────────────────────────────────────────────────────────────────────────────────────────────────────────\n"
     ]
    },
    {
     "data": {
      "text/plain": [
       "[{'test_loss': 0.17001409828662872, 'test_acc_f1': 0.9313333034515381}]"
      ]
     },
     "execution_count": 23,
     "metadata": {},
     "output_type": "execute_result"
    }
   ],
   "source": [
    "trainer.test(loaded_model, test_loader)"
   ]
  },
  {
   "cell_type": "markdown",
   "id": "271bc619-ca81-4dbe-a050-ea1925fffc87",
   "metadata": {},
   "source": [
    "---"
   ]
  },
  {
   "cell_type": "markdown",
   "id": "0d1d08c7-b07b-4155-8983-4d6ff86819fe",
   "metadata": {},
   "source": [
    "### Automating Evaluation"
   ]
  },
  {
   "cell_type": "code",
   "execution_count": 24,
   "id": "25e0c4b4-3aef-47bc-aff7-8887e9196698",
   "metadata": {
    "scrolled": true
   },
   "outputs": [],
   "source": [
    "# !mamba install scikit-learn -y"
   ]
  },
  {
   "cell_type": "code",
   "execution_count": 11,
   "id": "67031ef6-6b67-442f-8b64-43d252129431",
   "metadata": {},
   "outputs": [],
   "source": [
    "torch.set_float32_matmul_precision('high')"
   ]
  },
  {
   "cell_type": "code",
   "execution_count": 12,
   "id": "373559a2-2020-4883-8bd6-978e3fc08e5c",
   "metadata": {},
   "outputs": [],
   "source": [
    "from sklearn.metrics import f1_score, accuracy_score, precision_score, recall_score"
   ]
  },
  {
   "cell_type": "code",
   "execution_count": 13,
   "id": "47d48904-f2c1-4b6d-8de4-518d4c7e13f0",
   "metadata": {},
   "outputs": [],
   "source": [
    "BATCH_SIZE = 64\n",
    "test_loader = DataLoader(test_dataset, BATCH_SIZE, num_workers=4)\n",
    "val_loader = DataLoader(val_dataset, BATCH_SIZE, num_workers=4)"
   ]
  },
  {
   "cell_type": "code",
   "execution_count": 14,
   "id": "638b32de-2fb2-4fa6-afb0-b9e815d07233",
   "metadata": {},
   "outputs": [],
   "source": [
    "# y = test_dataset.targets\n",
    "y = np.array([test_dataset[i][1] for i in range(len(test_dataset))])\n",
    "# y_train = train_whole_dataset.targets\n",
    "y_val = np.array([val_dataset[i][1] for i in range(len(val_dataset))])"
   ]
  },
  {
   "cell_type": "code",
   "execution_count": 27,
   "id": "424add65-4054-462d-aff4-a659e4d70f60",
   "metadata": {},
   "outputs": [],
   "source": [
    "def get_test_preds(loaded_model, test_loader):\n",
    "    trainer = L.Trainer()\n",
    "    loaded_model.freeze()\n",
    "\n",
    "    predictions_list = trainer.predict(loaded_model, test_loader) # 30-len list of 32 x 20 tensors\n",
    "    predictions = torch.vstack(predictions_list).numpy() # 952 x 20\n",
    "    top_preds = predictions.argmax(axis=1).flatten()\n",
    "\n",
    "    return top_preds, predictions\n",
    "\n",
    "def top_preds(all_predictions):\n",
    "    return (\n",
    "        np.argsort(all_predictions, axis=1)[:, -5:],\n",
    "        np.argsort(all_predictions, axis=1)[:, -3:]\n",
    "    )\n",
    "\n",
    "def get_topk_accuracy(top_preds, ground_truths):\n",
    "    ground_truths = np.array(ground_truths)\n",
    "    #check if ground truth class lies somewhere in the top k\n",
    "    #check if any of the top 5 predicted classes match the ground truth class\n",
    "    # print(top_preds.shape)\n",
    "    ground_truths = ground_truths.reshape(-1, 1)\n",
    "    matches = np.any(top_preds == ground_truths, axis=1)\n",
    "\n",
    "    # Count the number of matches\n",
    "    num_matches = np.sum(matches)\n",
    "    # print(num_matches)\n",
    "\n",
    "    # Calculate the percentage of images where at least one of the top 5 predictions matches the ground truth\n",
    "    percentage_matches = (num_matches / top_preds.shape[0]) * 100\n",
    "    return percentage_matches\n",
    "\n",
    "def performance_metrics(predictions, ground_truth, metric_type=\"Test\"):\n",
    "    accuracy = accuracy_score(ground_truth, predictions)\n",
    "    recall = recall_score(ground_truth, predictions, average='weighted')\n",
    "    precision = precision_score(ground_truth, predictions, average='weighted')\n",
    "    f1 = f1_score(ground_truth, predictions, average='weighted')\n",
    "\n",
    "    # print(f\"{metric_type} Accuracy: {accuracy}\")\n",
    "    print(f\"{metric_type} Recall: {recall}\")\n",
    "    print(f\"{metric_type} Precision: {precision}\")\n",
    "    print(f\"{metric_type} F1 Score: {f1}\")\n",
    "    return {'recall': recall, 'precision': precision, 'f1': f1}"
   ]
  },
  {
   "cell_type": "code",
   "execution_count": 59,
   "id": "e6e72357-5ca9-459a-820f-d1b601c15abb",
   "metadata": {},
   "outputs": [],
   "source": [
    "fractions = [\"full\", \"1_20\", \"1_50\", \"1_100\"]\n",
    "aug_types = [\"raw\", \"tfms\", \"seg\", \"canny\", \"canny2\"]"
   ]
  },
  {
   "cell_type": "code",
   "execution_count": 60,
   "id": "1a504270-f8f4-4b0e-954f-a88f6f7fd587",
   "metadata": {},
   "outputs": [],
   "source": [
    "CKPTS = [f\"resnet50-intel-{aug_type}-{fraction}train.ckpt\" for aug_type in aug_types for fraction in fractions]"
   ]
  },
  {
   "cell_type": "code",
   "execution_count": 61,
   "id": "20a15e55-7c73-4117-8533-2919860d10a0",
   "metadata": {},
   "outputs": [
    {
     "data": {
      "text/plain": [
       "['resnet50-intel-raw-fulltrain.ckpt',\n",
       " 'resnet50-intel-raw-1_20train.ckpt',\n",
       " 'resnet50-intel-raw-1_50train.ckpt',\n",
       " 'resnet50-intel-raw-1_100train.ckpt',\n",
       " 'resnet50-intel-tfms-fulltrain.ckpt',\n",
       " 'resnet50-intel-tfms-1_20train.ckpt',\n",
       " 'resnet50-intel-tfms-1_50train.ckpt',\n",
       " 'resnet50-intel-tfms-1_100train.ckpt',\n",
       " 'resnet50-intel-seg-fulltrain.ckpt',\n",
       " 'resnet50-intel-seg-1_20train.ckpt',\n",
       " 'resnet50-intel-seg-1_50train.ckpt',\n",
       " 'resnet50-intel-seg-1_100train.ckpt',\n",
       " 'resnet50-intel-canny-fulltrain.ckpt',\n",
       " 'resnet50-intel-canny-1_20train.ckpt',\n",
       " 'resnet50-intel-canny-1_50train.ckpt',\n",
       " 'resnet50-intel-canny-1_100train.ckpt',\n",
       " 'resnet50-intel-canny2-fulltrain.ckpt',\n",
       " 'resnet50-intel-canny2-1_20train.ckpt',\n",
       " 'resnet50-intel-canny2-1_50train.ckpt',\n",
       " 'resnet50-intel-canny2-1_100train.ckpt']"
      ]
     },
     "execution_count": 61,
     "metadata": {},
     "output_type": "execute_result"
    }
   ],
   "source": [
    "CKPTS"
   ]
  },
  {
   "cell_type": "code",
   "execution_count": 62,
   "id": "c74ff7e9-bcc8-441a-8ae9-d2aaaf3929e6",
   "metadata": {
    "tags": []
   },
   "outputs": [],
   "source": [
    "import logging\n",
    "logging.getLogger(\"lightning.pytorch.utilities.rank_zero\").setLevel(logging.WARNING)\n",
    "logging.getLogger(\"lightning.pytorch.accelerators.cuda\").setLevel(logging.WARNING)"
   ]
  },
  {
   "cell_type": "code",
   "execution_count": 63,
   "id": "4fe0531f-04ee-4147-b968-105f0dac6340",
   "metadata": {},
   "outputs": [],
   "source": [
    "import pandas as pd"
   ]
  },
  {
   "cell_type": "code",
   "execution_count": 64,
   "id": "09edff28-53f1-4ebe-9301-3710c3cc024a",
   "metadata": {
    "scrolled": true
   },
   "outputs": [
    {
     "name": "stdout",
     "output_type": "stream",
     "text": [
      "---resnet50-intel-raw-fulltrain.ckpt---\n"
     ]
    },
    {
     "name": "stderr",
     "output_type": "stream",
     "text": [
      "SLURM auto-requeueing enabled. Setting signal handlers.\n"
     ]
    },
    {
     "data": {
      "application/vnd.jupyter.widget-view+json": {
       "model_id": "54ef87036e2440aa8fa4176858604294",
       "version_major": 2,
       "version_minor": 0
      },
      "text/plain": [
       "Predicting: |                                                                                        | 0/? [00…"
      ]
     },
     "metadata": {},
     "output_type": "display_data"
    },
    {
     "name": "stdout",
     "output_type": "stream",
     "text": [
      "Test Recall: 0.9313333333333333\n",
      "Test Precision: 0.9312672755513962\n",
      "Test F1 Score: 0.9312397885801864\n",
      "\n",
      "---resnet50-intel-tfms-fulltrain.ckpt---\n"
     ]
    },
    {
     "name": "stderr",
     "output_type": "stream",
     "text": [
      "SLURM auto-requeueing enabled. Setting signal handlers.\n"
     ]
    },
    {
     "data": {
      "application/vnd.jupyter.widget-view+json": {
       "model_id": "1e2ffa8800234e9182d95797ea1e8895",
       "version_major": 2,
       "version_minor": 0
      },
      "text/plain": [
       "Predicting: |                                                                                        | 0/? [00…"
      ]
     },
     "metadata": {},
     "output_type": "display_data"
    },
    {
     "name": "stdout",
     "output_type": "stream",
     "text": [
      "Test Recall: 0.9293333333333333\n",
      "Test Precision: 0.929316600373743\n",
      "Test F1 Score: 0.929205281138297\n",
      "\n",
      "---resnet50-intel-seg-fulltrain.ckpt---\n"
     ]
    },
    {
     "name": "stderr",
     "output_type": "stream",
     "text": [
      "SLURM auto-requeueing enabled. Setting signal handlers.\n"
     ]
    },
    {
     "data": {
      "application/vnd.jupyter.widget-view+json": {
       "model_id": "c7180a8181ea43fb848911ff3e71c2a9",
       "version_major": 2,
       "version_minor": 0
      },
      "text/plain": [
       "Predicting: |                                                                                        | 0/? [00…"
      ]
     },
     "metadata": {},
     "output_type": "display_data"
    },
    {
     "name": "stdout",
     "output_type": "stream",
     "text": [
      "Test Recall: 0.9166666666666666\n",
      "Test Precision: 0.9173589761128336\n",
      "Test F1 Score: 0.9166557447621995\n",
      "\n",
      "---resnet50-intel-canny-fulltrain.ckpt---\n"
     ]
    },
    {
     "name": "stderr",
     "output_type": "stream",
     "text": [
      "/storage/ice1/5/4/rso31/miniforge3/envs/cv_env/lib/python3.12/site-packages/lightning/pytorch/utilities/migration/utils.py:56: The loaded checkpoint was produced with Lightning v2.2.2, which is newer than your current Lightning version: v2.2.1\n",
      "SLURM auto-requeueing enabled. Setting signal handlers.\n"
     ]
    },
    {
     "data": {
      "application/vnd.jupyter.widget-view+json": {
       "model_id": "a84008ab1dc441069dcc102c3cb22c97",
       "version_major": 2,
       "version_minor": 0
      },
      "text/plain": [
       "Predicting: |                                                                                        | 0/? [00…"
      ]
     },
     "metadata": {},
     "output_type": "display_data"
    },
    {
     "name": "stdout",
     "output_type": "stream",
     "text": [
      "Test Recall: 0.9286666666666666\n",
      "Test Precision: 0.9284053996625151\n",
      "Test F1 Score: 0.9284373498821\n",
      "\n",
      "---resnet50-intel-canny2-fulltrain.ckpt---\n"
     ]
    },
    {
     "name": "stderr",
     "output_type": "stream",
     "text": [
      "/storage/ice1/5/4/rso31/miniforge3/envs/cv_env/lib/python3.12/site-packages/lightning/pytorch/utilities/migration/utils.py:56: The loaded checkpoint was produced with Lightning v2.2.2, which is newer than your current Lightning version: v2.2.1\n",
      "SLURM auto-requeueing enabled. Setting signal handlers.\n"
     ]
    },
    {
     "data": {
      "application/vnd.jupyter.widget-view+json": {
       "model_id": "fff152609bc241af81762b6c79554582",
       "version_major": 2,
       "version_minor": 0
      },
      "text/plain": [
       "Predicting: |                                                                                        | 0/? [00…"
      ]
     },
     "metadata": {},
     "output_type": "display_data"
    },
    {
     "name": "stdout",
     "output_type": "stream",
     "text": [
      "Test Recall: 0.93\n",
      "Test Precision: 0.9298001037897689\n",
      "Test F1 Score: 0.9298320489022209\n",
      "\n",
      "---resnet50-intel-raw-1_20train.ckpt---\n"
     ]
    },
    {
     "name": "stderr",
     "output_type": "stream",
     "text": [
      "SLURM auto-requeueing enabled. Setting signal handlers.\n"
     ]
    },
    {
     "data": {
      "application/vnd.jupyter.widget-view+json": {
       "model_id": "6eb7c442aff448e08b3441d57743c530",
       "version_major": 2,
       "version_minor": 0
      },
      "text/plain": [
       "Predicting: |                                                                                        | 0/? [00…"
      ]
     },
     "metadata": {},
     "output_type": "display_data"
    },
    {
     "name": "stdout",
     "output_type": "stream",
     "text": [
      "Test Recall: 0.8893333333333333\n",
      "Test Precision: 0.8905026017243582\n",
      "Test F1 Score: 0.8890000268103451\n",
      "\n",
      "---resnet50-intel-tfms-1_20train.ckpt---\n"
     ]
    },
    {
     "name": "stderr",
     "output_type": "stream",
     "text": [
      "SLURM auto-requeueing enabled. Setting signal handlers.\n"
     ]
    },
    {
     "data": {
      "application/vnd.jupyter.widget-view+json": {
       "model_id": "b16a7cc1ef9f406e942ccc1b74c9fbe8",
       "version_major": 2,
       "version_minor": 0
      },
      "text/plain": [
       "Predicting: |                                                                                        | 0/? [00…"
      ]
     },
     "metadata": {},
     "output_type": "display_data"
    },
    {
     "name": "stdout",
     "output_type": "stream",
     "text": [
      "Test Recall: 0.886\n",
      "Test Precision: 0.8902258808190823\n",
      "Test F1 Score: 0.8849206292705418\n",
      "\n",
      "---resnet50-intel-seg-1_20train.ckpt---\n"
     ]
    },
    {
     "name": "stderr",
     "output_type": "stream",
     "text": [
      "SLURM auto-requeueing enabled. Setting signal handlers.\n"
     ]
    },
    {
     "data": {
      "application/vnd.jupyter.widget-view+json": {
       "model_id": "6c0dbc0a00b34f46b5c9691fe719adf1",
       "version_major": 2,
       "version_minor": 0
      },
      "text/plain": [
       "Predicting: |                                                                                        | 0/? [00…"
      ]
     },
     "metadata": {},
     "output_type": "display_data"
    },
    {
     "name": "stdout",
     "output_type": "stream",
     "text": [
      "Test Recall: 0.8646666666666667\n",
      "Test Precision: 0.8831808353155918\n",
      "Test F1 Score: 0.8602444551348309\n",
      "\n",
      "---resnet50-intel-canny-1_20train.ckpt---\n"
     ]
    },
    {
     "name": "stderr",
     "output_type": "stream",
     "text": [
      "SLURM auto-requeueing enabled. Setting signal handlers.\n"
     ]
    },
    {
     "data": {
      "application/vnd.jupyter.widget-view+json": {
       "model_id": "116ee809b9584596bdb0c7ab22a3a344",
       "version_major": 2,
       "version_minor": 0
      },
      "text/plain": [
       "Predicting: |                                                                                        | 0/? [00…"
      ]
     },
     "metadata": {},
     "output_type": "display_data"
    },
    {
     "name": "stdout",
     "output_type": "stream",
     "text": [
      "Test Recall: 0.8933333333333333\n",
      "Test Precision: 0.8982839478170446\n",
      "Test F1 Score: 0.8925076846626797\n",
      "\n",
      "---resnet50-intel-canny2-1_20train.ckpt---\n"
     ]
    },
    {
     "name": "stderr",
     "output_type": "stream",
     "text": [
      "SLURM auto-requeueing enabled. Setting signal handlers.\n"
     ]
    },
    {
     "data": {
      "application/vnd.jupyter.widget-view+json": {
       "model_id": "e70162ee794043f99323834fb63f64d2",
       "version_major": 2,
       "version_minor": 0
      },
      "text/plain": [
       "Predicting: |                                                                                        | 0/? [00…"
      ]
     },
     "metadata": {},
     "output_type": "display_data"
    },
    {
     "name": "stdout",
     "output_type": "stream",
     "text": [
      "Test Recall: 0.8746666666666667\n",
      "Test Precision: 0.8896285972815807\n",
      "Test F1 Score: 0.8709131265330352\n",
      "\n",
      "---resnet50-intel-raw-1_50train.ckpt---\n"
     ]
    },
    {
     "name": "stderr",
     "output_type": "stream",
     "text": [
      "SLURM auto-requeueing enabled. Setting signal handlers.\n"
     ]
    },
    {
     "data": {
      "application/vnd.jupyter.widget-view+json": {
       "model_id": "fb467392b97b4dfc83526f21615ebf67",
       "version_major": 2,
       "version_minor": 0
      },
      "text/plain": [
       "Predicting: |                                                                                        | 0/? [00…"
      ]
     },
     "metadata": {},
     "output_type": "display_data"
    },
    {
     "name": "stdout",
     "output_type": "stream",
     "text": [
      "Test Recall: 0.8413333333333334\n",
      "Test Precision: 0.855505665239644\n",
      "Test F1 Score: 0.8412070242418801\n",
      "\n",
      "---resnet50-intel-tfms-1_50train.ckpt---\n"
     ]
    },
    {
     "name": "stderr",
     "output_type": "stream",
     "text": [
      "SLURM auto-requeueing enabled. Setting signal handlers.\n"
     ]
    },
    {
     "data": {
      "application/vnd.jupyter.widget-view+json": {
       "model_id": "b8aa756e2da04cc789781f5a49b7cd9f",
       "version_major": 2,
       "version_minor": 0
      },
      "text/plain": [
       "Predicting: |                                                                                        | 0/? [00…"
      ]
     },
     "metadata": {},
     "output_type": "display_data"
    },
    {
     "name": "stdout",
     "output_type": "stream",
     "text": [
      "Test Recall: 0.812\n",
      "Test Precision: 0.8400996266005263\n",
      "Test F1 Score: 0.8066994502966949\n",
      "\n",
      "---resnet50-intel-seg-1_50train.ckpt---\n"
     ]
    },
    {
     "name": "stderr",
     "output_type": "stream",
     "text": [
      "SLURM auto-requeueing enabled. Setting signal handlers.\n"
     ]
    },
    {
     "data": {
      "application/vnd.jupyter.widget-view+json": {
       "model_id": "12139bebd77541c0bdb768675f9a533c",
       "version_major": 2,
       "version_minor": 0
      },
      "text/plain": [
       "Predicting: |                                                                                        | 0/? [00…"
      ]
     },
     "metadata": {},
     "output_type": "display_data"
    },
    {
     "name": "stdout",
     "output_type": "stream",
     "text": [
      "Test Recall: 0.8266666666666667\n",
      "Test Precision: 0.8560826397870064\n",
      "Test F1 Score: 0.8177523955520226\n",
      "\n",
      "---resnet50-intel-canny-1_50train.ckpt---\n"
     ]
    },
    {
     "name": "stderr",
     "output_type": "stream",
     "text": [
      "SLURM auto-requeueing enabled. Setting signal handlers.\n"
     ]
    },
    {
     "data": {
      "application/vnd.jupyter.widget-view+json": {
       "model_id": "d5a4ed6e39a24495929f4b9de2b69bdf",
       "version_major": 2,
       "version_minor": 0
      },
      "text/plain": [
       "Predicting: |                                                                                        | 0/? [00…"
      ]
     },
     "metadata": {},
     "output_type": "display_data"
    },
    {
     "name": "stdout",
     "output_type": "stream",
     "text": [
      "Test Recall: 0.8613333333333333\n",
      "Test Precision: 0.8736855378008652\n",
      "Test F1 Score: 0.8586882828537947\n",
      "\n",
      "---resnet50-intel-canny2-1_50train.ckpt---\n"
     ]
    },
    {
     "name": "stderr",
     "output_type": "stream",
     "text": [
      "SLURM auto-requeueing enabled. Setting signal handlers.\n"
     ]
    },
    {
     "data": {
      "application/vnd.jupyter.widget-view+json": {
       "model_id": "679d9d4157724a559d457b6b6fe7c4fa",
       "version_major": 2,
       "version_minor": 0
      },
      "text/plain": [
       "Predicting: |                                                                                        | 0/? [00…"
      ]
     },
     "metadata": {},
     "output_type": "display_data"
    },
    {
     "name": "stdout",
     "output_type": "stream",
     "text": [
      "Test Recall: 0.8606666666666667\n",
      "Test Precision: 0.8736481759039288\n",
      "Test F1 Score: 0.8575479158626047\n",
      "\n",
      "---resnet50-intel-raw-1_100train.ckpt---\n"
     ]
    },
    {
     "name": "stderr",
     "output_type": "stream",
     "text": [
      "SLURM auto-requeueing enabled. Setting signal handlers.\n"
     ]
    },
    {
     "data": {
      "application/vnd.jupyter.widget-view+json": {
       "model_id": "250df4c1764b4f71af89ce5f0993a256",
       "version_major": 2,
       "version_minor": 0
      },
      "text/plain": [
       "Predicting: |                                                                                        | 0/? [00…"
      ]
     },
     "metadata": {},
     "output_type": "display_data"
    },
    {
     "name": "stdout",
     "output_type": "stream",
     "text": [
      "Test Recall: 0.7933333333333333\n",
      "Test Precision: 0.8250941389946292\n",
      "Test F1 Score: 0.7817614155206005\n",
      "\n",
      "---resnet50-intel-tfms-1_100train.ckpt---\n"
     ]
    },
    {
     "name": "stderr",
     "output_type": "stream",
     "text": [
      "SLURM auto-requeueing enabled. Setting signal handlers.\n"
     ]
    },
    {
     "data": {
      "application/vnd.jupyter.widget-view+json": {
       "model_id": "cb397e6fd585456a84ec88a22daf86c7",
       "version_major": 2,
       "version_minor": 0
      },
      "text/plain": [
       "Predicting: |                                                                                        | 0/? [00…"
      ]
     },
     "metadata": {},
     "output_type": "display_data"
    },
    {
     "name": "stdout",
     "output_type": "stream",
     "text": [
      "Test Recall: 0.784\n",
      "Test Precision: 0.8233887430913739\n",
      "Test F1 Score: 0.7714272001154217\n",
      "\n",
      "---resnet50-intel-seg-1_100train.ckpt---\n"
     ]
    },
    {
     "name": "stderr",
     "output_type": "stream",
     "text": [
      "SLURM auto-requeueing enabled. Setting signal handlers.\n"
     ]
    },
    {
     "data": {
      "application/vnd.jupyter.widget-view+json": {
       "model_id": "40820e3bf3434606a460b8958720c995",
       "version_major": 2,
       "version_minor": 0
      },
      "text/plain": [
       "Predicting: |                                                                                        | 0/? [00…"
      ]
     },
     "metadata": {},
     "output_type": "display_data"
    },
    {
     "name": "stdout",
     "output_type": "stream",
     "text": [
      "Test Recall: 0.846\n",
      "Test Precision: 0.8553115988594765\n",
      "Test F1 Score: 0.8450751026231083\n",
      "\n",
      "---resnet50-intel-canny-1_100train.ckpt---\n"
     ]
    },
    {
     "name": "stderr",
     "output_type": "stream",
     "text": [
      "SLURM auto-requeueing enabled. Setting signal handlers.\n"
     ]
    },
    {
     "data": {
      "application/vnd.jupyter.widget-view+json": {
       "model_id": "b6e156aa063d4cefb27ec34a06127d7e",
       "version_major": 2,
       "version_minor": 0
      },
      "text/plain": [
       "Predicting: |                                                                                        | 0/? [00…"
      ]
     },
     "metadata": {},
     "output_type": "display_data"
    },
    {
     "name": "stdout",
     "output_type": "stream",
     "text": [
      "Test Recall: 0.854\n",
      "Test Precision: 0.8628603039206826\n",
      "Test F1 Score: 0.8538442882081906\n",
      "\n",
      "---resnet50-intel-canny2-1_100train.ckpt---\n"
     ]
    },
    {
     "name": "stderr",
     "output_type": "stream",
     "text": [
      "SLURM auto-requeueing enabled. Setting signal handlers.\n"
     ]
    },
    {
     "data": {
      "application/vnd.jupyter.widget-view+json": {
       "model_id": "5d98ce75f3fd43b3a6da3ab84e499850",
       "version_major": 2,
       "version_minor": 0
      },
      "text/plain": [
       "Predicting: |                                                                                        | 0/? [00…"
      ]
     },
     "metadata": {},
     "output_type": "display_data"
    },
    {
     "name": "stdout",
     "output_type": "stream",
     "text": [
      "Test Recall: 0.814\n",
      "Test Precision: 0.8446055001806013\n",
      "Test F1 Score: 0.8113269372246191\n",
      "\n"
     ]
    }
   ],
   "source": [
    "test_results = {}\n",
    "for fraction in fractions:\n",
    "    for aug_type in aug_types:\n",
    "        ckpt = f\"resnet50-intel-{aug_type}-{fraction}train.ckpt\"\n",
    "        print(f\"---{ckpt}---\")\n",
    "        loaded_model = IntelClassifier.load_from_checkpoint(checkpoint_path=ckpt)\n",
    "        resnet_pred, resnet_all_pred = get_test_preds(loaded_model, test_loader)\n",
    "        \n",
    "        resnet_top5, resnet_top3 = top_preds(resnet_all_pred)\n",
    "        \n",
    "        perf_dict = performance_metrics(resnet_pred, y)\n",
    "        test_results[(fraction, aug_type)] = perf_dict\n",
    "        print()"
   ]
  },
  {
   "cell_type": "code",
   "execution_count": 65,
   "id": "a1685ea7-1547-40f9-a14b-fc72baab4973",
   "metadata": {},
   "outputs": [],
   "source": [
    "df = pd.DataFrame.from_dict(test_results, orient='index')"
   ]
  },
  {
   "cell_type": "code",
   "execution_count": 66,
   "id": "750f7d8a-8082-4dbc-9990-ec04c063e6d3",
   "metadata": {},
   "outputs": [
    {
     "data": {
      "text/html": [
       "<div>\n",
       "<style scoped>\n",
       "    .dataframe tbody tr th:only-of-type {\n",
       "        vertical-align: middle;\n",
       "    }\n",
       "\n",
       "    .dataframe tbody tr th {\n",
       "        vertical-align: top;\n",
       "    }\n",
       "\n",
       "    .dataframe thead th {\n",
       "        text-align: right;\n",
       "    }\n",
       "</style>\n",
       "<table border=\"1\" class=\"dataframe\">\n",
       "  <thead>\n",
       "    <tr style=\"text-align: right;\">\n",
       "      <th></th>\n",
       "      <th></th>\n",
       "      <th>recall</th>\n",
       "      <th>precision</th>\n",
       "      <th>f1</th>\n",
       "    </tr>\n",
       "  </thead>\n",
       "  <tbody>\n",
       "    <tr>\n",
       "      <th rowspan=\"5\" valign=\"top\">full</th>\n",
       "      <th>raw</th>\n",
       "      <td>0.931333</td>\n",
       "      <td>0.931267</td>\n",
       "      <td>0.931240</td>\n",
       "    </tr>\n",
       "    <tr>\n",
       "      <th>tfms</th>\n",
       "      <td>0.929333</td>\n",
       "      <td>0.929317</td>\n",
       "      <td>0.929205</td>\n",
       "    </tr>\n",
       "    <tr>\n",
       "      <th>seg</th>\n",
       "      <td>0.916667</td>\n",
       "      <td>0.917359</td>\n",
       "      <td>0.916656</td>\n",
       "    </tr>\n",
       "    <tr>\n",
       "      <th>canny</th>\n",
       "      <td>0.928667</td>\n",
       "      <td>0.928405</td>\n",
       "      <td>0.928437</td>\n",
       "    </tr>\n",
       "    <tr>\n",
       "      <th>canny2</th>\n",
       "      <td>0.930000</td>\n",
       "      <td>0.929800</td>\n",
       "      <td>0.929832</td>\n",
       "    </tr>\n",
       "    <tr>\n",
       "      <th rowspan=\"5\" valign=\"top\">1_20</th>\n",
       "      <th>raw</th>\n",
       "      <td>0.889333</td>\n",
       "      <td>0.890503</td>\n",
       "      <td>0.889000</td>\n",
       "    </tr>\n",
       "    <tr>\n",
       "      <th>tfms</th>\n",
       "      <td>0.886000</td>\n",
       "      <td>0.890226</td>\n",
       "      <td>0.884921</td>\n",
       "    </tr>\n",
       "    <tr>\n",
       "      <th>seg</th>\n",
       "      <td>0.864667</td>\n",
       "      <td>0.883181</td>\n",
       "      <td>0.860244</td>\n",
       "    </tr>\n",
       "    <tr>\n",
       "      <th>canny</th>\n",
       "      <td>0.893333</td>\n",
       "      <td>0.898284</td>\n",
       "      <td>0.892508</td>\n",
       "    </tr>\n",
       "    <tr>\n",
       "      <th>canny2</th>\n",
       "      <td>0.874667</td>\n",
       "      <td>0.889629</td>\n",
       "      <td>0.870913</td>\n",
       "    </tr>\n",
       "    <tr>\n",
       "      <th rowspan=\"5\" valign=\"top\">1_50</th>\n",
       "      <th>raw</th>\n",
       "      <td>0.841333</td>\n",
       "      <td>0.855506</td>\n",
       "      <td>0.841207</td>\n",
       "    </tr>\n",
       "    <tr>\n",
       "      <th>tfms</th>\n",
       "      <td>0.812000</td>\n",
       "      <td>0.840100</td>\n",
       "      <td>0.806699</td>\n",
       "    </tr>\n",
       "    <tr>\n",
       "      <th>seg</th>\n",
       "      <td>0.826667</td>\n",
       "      <td>0.856083</td>\n",
       "      <td>0.817752</td>\n",
       "    </tr>\n",
       "    <tr>\n",
       "      <th>canny</th>\n",
       "      <td>0.861333</td>\n",
       "      <td>0.873686</td>\n",
       "      <td>0.858688</td>\n",
       "    </tr>\n",
       "    <tr>\n",
       "      <th>canny2</th>\n",
       "      <td>0.860667</td>\n",
       "      <td>0.873648</td>\n",
       "      <td>0.857548</td>\n",
       "    </tr>\n",
       "    <tr>\n",
       "      <th rowspan=\"5\" valign=\"top\">1_100</th>\n",
       "      <th>raw</th>\n",
       "      <td>0.793333</td>\n",
       "      <td>0.825094</td>\n",
       "      <td>0.781761</td>\n",
       "    </tr>\n",
       "    <tr>\n",
       "      <th>tfms</th>\n",
       "      <td>0.784000</td>\n",
       "      <td>0.823389</td>\n",
       "      <td>0.771427</td>\n",
       "    </tr>\n",
       "    <tr>\n",
       "      <th>seg</th>\n",
       "      <td>0.846000</td>\n",
       "      <td>0.855312</td>\n",
       "      <td>0.845075</td>\n",
       "    </tr>\n",
       "    <tr>\n",
       "      <th>canny</th>\n",
       "      <td>0.854000</td>\n",
       "      <td>0.862860</td>\n",
       "      <td>0.853844</td>\n",
       "    </tr>\n",
       "    <tr>\n",
       "      <th>canny2</th>\n",
       "      <td>0.814000</td>\n",
       "      <td>0.844606</td>\n",
       "      <td>0.811327</td>\n",
       "    </tr>\n",
       "  </tbody>\n",
       "</table>\n",
       "</div>"
      ],
      "text/plain": [
       "                recall  precision        f1\n",
       "full  raw     0.931333   0.931267  0.931240\n",
       "      tfms    0.929333   0.929317  0.929205\n",
       "      seg     0.916667   0.917359  0.916656\n",
       "      canny   0.928667   0.928405  0.928437\n",
       "      canny2  0.930000   0.929800  0.929832\n",
       "1_20  raw     0.889333   0.890503  0.889000\n",
       "      tfms    0.886000   0.890226  0.884921\n",
       "      seg     0.864667   0.883181  0.860244\n",
       "      canny   0.893333   0.898284  0.892508\n",
       "      canny2  0.874667   0.889629  0.870913\n",
       "1_50  raw     0.841333   0.855506  0.841207\n",
       "      tfms    0.812000   0.840100  0.806699\n",
       "      seg     0.826667   0.856083  0.817752\n",
       "      canny   0.861333   0.873686  0.858688\n",
       "      canny2  0.860667   0.873648  0.857548\n",
       "1_100 raw     0.793333   0.825094  0.781761\n",
       "      tfms    0.784000   0.823389  0.771427\n",
       "      seg     0.846000   0.855312  0.845075\n",
       "      canny   0.854000   0.862860  0.853844\n",
       "      canny2  0.814000   0.844606  0.811327"
      ]
     },
     "execution_count": 66,
     "metadata": {},
     "output_type": "execute_result"
    }
   ],
   "source": [
    "df"
   ]
  },
  {
   "cell_type": "code",
   "execution_count": 67,
   "id": "689a7328-9709-42cc-97f3-8f7c1d458702",
   "metadata": {},
   "outputs": [],
   "source": [
    "df.to_csv('test_results.csv')"
   ]
  },
  {
   "cell_type": "code",
   "execution_count": 68,
   "id": "76f5fd29-f9e7-4ce5-b627-c8f0a0e805aa",
   "metadata": {
    "scrolled": true
   },
   "outputs": [
    {
     "name": "stdout",
     "output_type": "stream",
     "text": [
      "---resnet50-intel-raw-fulltrain.ckpt---\n"
     ]
    },
    {
     "name": "stderr",
     "output_type": "stream",
     "text": [
      "SLURM auto-requeueing enabled. Setting signal handlers.\n"
     ]
    },
    {
     "data": {
      "application/vnd.jupyter.widget-view+json": {
       "model_id": "1c5802d8ff04466284ba744ab0a24e6f",
       "version_major": 2,
       "version_minor": 0
      },
      "text/plain": [
       "Predicting: |                                                                                        | 0/? [00…"
      ]
     },
     "metadata": {},
     "output_type": "display_data"
    },
    {
     "name": "stdout",
     "output_type": "stream",
     "text": [
      "Val Recall: 0.9293333333333333\n",
      "Val Precision: 0.929198505463445\n",
      "Val F1 Score: 0.9291724728471301\n",
      "\n",
      "---resnet50-intel-raw-1_20train.ckpt---\n"
     ]
    },
    {
     "name": "stderr",
     "output_type": "stream",
     "text": [
      "SLURM auto-requeueing enabled. Setting signal handlers.\n"
     ]
    },
    {
     "data": {
      "application/vnd.jupyter.widget-view+json": {
       "model_id": "4dfaa06233534d18885fe3d9d56c1502",
       "version_major": 2,
       "version_minor": 0
      },
      "text/plain": [
       "Predicting: |                                                                                        | 0/? [00…"
      ]
     },
     "metadata": {},
     "output_type": "display_data"
    },
    {
     "name": "stdout",
     "output_type": "stream",
     "text": [
      "Val Recall: 0.8933333333333333\n",
      "Val Precision: 0.8952103602513043\n",
      "Val F1 Score: 0.892460628365606\n",
      "\n",
      "---resnet50-intel-raw-1_50train.ckpt---\n"
     ]
    },
    {
     "name": "stderr",
     "output_type": "stream",
     "text": [
      "SLURM auto-requeueing enabled. Setting signal handlers.\n"
     ]
    },
    {
     "data": {
      "application/vnd.jupyter.widget-view+json": {
       "model_id": "8e743053ee3249d1ae4cf9cdeb990192",
       "version_major": 2,
       "version_minor": 0
      },
      "text/plain": [
       "Predicting: |                                                                                        | 0/? [00…"
      ]
     },
     "metadata": {},
     "output_type": "display_data"
    },
    {
     "name": "stderr",
     "output_type": "stream",
     "text": [
      "SLURM auto-requeueing enabled. Setting signal handlers.\n"
     ]
    },
    {
     "name": "stdout",
     "output_type": "stream",
     "text": [
      "Val Recall: 0.8673333333333333\n",
      "Val Precision: 0.8742757956404427\n",
      "Val F1 Score: 0.866928658678299\n",
      "\n",
      "---resnet50-intel-raw-1_100train.ckpt---\n"
     ]
    },
    {
     "data": {
      "application/vnd.jupyter.widget-view+json": {
       "model_id": "b8238ffcb5ac49b4ac0f90d5717f75dd",
       "version_major": 2,
       "version_minor": 0
      },
      "text/plain": [
       "Predicting: |                                                                                        | 0/? [00…"
      ]
     },
     "metadata": {},
     "output_type": "display_data"
    },
    {
     "name": "stdout",
     "output_type": "stream",
     "text": [
      "Val Recall: 0.7953333333333333\n",
      "Val Precision: 0.8218587156953538\n",
      "Val F1 Score: 0.7820765600185835\n",
      "\n",
      "---resnet50-intel-tfms-fulltrain.ckpt---\n"
     ]
    },
    {
     "name": "stderr",
     "output_type": "stream",
     "text": [
      "SLURM auto-requeueing enabled. Setting signal handlers.\n"
     ]
    },
    {
     "data": {
      "application/vnd.jupyter.widget-view+json": {
       "model_id": "60786d6f6ebf4e94858005d79414f486",
       "version_major": 2,
       "version_minor": 0
      },
      "text/plain": [
       "Predicting: |                                                                                        | 0/? [00…"
      ]
     },
     "metadata": {},
     "output_type": "display_data"
    },
    {
     "name": "stdout",
     "output_type": "stream",
     "text": [
      "Val Recall: 0.9193333333333333\n",
      "Val Precision: 0.919861802705964\n",
      "Val F1 Score: 0.9191545576058711\n",
      "\n",
      "---resnet50-intel-tfms-1_20train.ckpt---\n"
     ]
    },
    {
     "name": "stderr",
     "output_type": "stream",
     "text": [
      "SLURM auto-requeueing enabled. Setting signal handlers.\n"
     ]
    },
    {
     "data": {
      "application/vnd.jupyter.widget-view+json": {
       "model_id": "4f7856842e5f450abf27b86c04594908",
       "version_major": 2,
       "version_minor": 0
      },
      "text/plain": [
       "Predicting: |                                                                                        | 0/? [00…"
      ]
     },
     "metadata": {},
     "output_type": "display_data"
    },
    {
     "name": "stdout",
     "output_type": "stream",
     "text": [
      "Val Recall: 0.884\n",
      "Val Precision: 0.8878810012970624\n",
      "Val F1 Score: 0.8827027644444394\n",
      "\n",
      "---resnet50-intel-tfms-1_50train.ckpt---\n"
     ]
    },
    {
     "name": "stderr",
     "output_type": "stream",
     "text": [
      "SLURM auto-requeueing enabled. Setting signal handlers.\n"
     ]
    },
    {
     "data": {
      "application/vnd.jupyter.widget-view+json": {
       "model_id": "af229ca8b04145cc82d30b45d6176c2a",
       "version_major": 2,
       "version_minor": 0
      },
      "text/plain": [
       "Predicting: |                                                                                        | 0/? [00…"
      ]
     },
     "metadata": {},
     "output_type": "display_data"
    },
    {
     "name": "stdout",
     "output_type": "stream",
     "text": [
      "Val Recall: 0.806\n",
      "Val Precision: 0.8299195230206254\n",
      "Val F1 Score: 0.8015290030187034\n",
      "\n",
      "---resnet50-intel-tfms-1_100train.ckpt---\n"
     ]
    },
    {
     "name": "stderr",
     "output_type": "stream",
     "text": [
      "SLURM auto-requeueing enabled. Setting signal handlers.\n"
     ]
    },
    {
     "data": {
      "application/vnd.jupyter.widget-view+json": {
       "model_id": "c5928040594145738da46cfdbf02bf86",
       "version_major": 2,
       "version_minor": 0
      },
      "text/plain": [
       "Predicting: |                                                                                        | 0/? [00…"
      ]
     },
     "metadata": {},
     "output_type": "display_data"
    },
    {
     "name": "stdout",
     "output_type": "stream",
     "text": [
      "Val Recall: 0.7806666666666666\n",
      "Val Precision: 0.810538101648209\n",
      "Val F1 Score: 0.7682876116614195\n",
      "\n",
      "---resnet50-intel-seg-fulltrain.ckpt---\n"
     ]
    },
    {
     "name": "stderr",
     "output_type": "stream",
     "text": [
      "SLURM auto-requeueing enabled. Setting signal handlers.\n"
     ]
    },
    {
     "data": {
      "application/vnd.jupyter.widget-view+json": {
       "model_id": "f3c336d134644582815f8901ef0fd594",
       "version_major": 2,
       "version_minor": 0
      },
      "text/plain": [
       "Predicting: |                                                                                        | 0/? [00…"
      ]
     },
     "metadata": {},
     "output_type": "display_data"
    },
    {
     "name": "stdout",
     "output_type": "stream",
     "text": [
      "Val Recall: 0.9213333333333333\n",
      "Val Precision: 0.9225546324881844\n",
      "Val F1 Score: 0.9209227943197746\n",
      "\n",
      "---resnet50-intel-seg-1_20train.ckpt---\n"
     ]
    },
    {
     "name": "stderr",
     "output_type": "stream",
     "text": [
      "SLURM auto-requeueing enabled. Setting signal handlers.\n"
     ]
    },
    {
     "data": {
      "application/vnd.jupyter.widget-view+json": {
       "model_id": "913afae90e29430fad96305efbceb196",
       "version_major": 2,
       "version_minor": 0
      },
      "text/plain": [
       "Predicting: |                                                                                        | 0/? [00…"
      ]
     },
     "metadata": {},
     "output_type": "display_data"
    },
    {
     "name": "stderr",
     "output_type": "stream",
     "text": [
      "SLURM auto-requeueing enabled. Setting signal handlers.\n"
     ]
    },
    {
     "name": "stdout",
     "output_type": "stream",
     "text": [
      "Val Recall: 0.8666666666666667\n",
      "Val Precision: 0.8830993316176906\n",
      "Val F1 Score: 0.8619908831955873\n",
      "\n",
      "---resnet50-intel-seg-1_50train.ckpt---\n"
     ]
    },
    {
     "data": {
      "application/vnd.jupyter.widget-view+json": {
       "model_id": "13c6512185a04e78b213031c2e05e23c",
       "version_major": 2,
       "version_minor": 0
      },
      "text/plain": [
       "Predicting: |                                                                                        | 0/? [00…"
      ]
     },
     "metadata": {},
     "output_type": "display_data"
    },
    {
     "name": "stdout",
     "output_type": "stream",
     "text": [
      "Val Recall: 0.8226666666666667\n",
      "Val Precision: 0.8519782825397113\n",
      "Val F1 Score: 0.8135951169397946\n",
      "\n",
      "---resnet50-intel-seg-1_100train.ckpt---\n"
     ]
    },
    {
     "name": "stderr",
     "output_type": "stream",
     "text": [
      "SLURM auto-requeueing enabled. Setting signal handlers.\n"
     ]
    },
    {
     "data": {
      "application/vnd.jupyter.widget-view+json": {
       "model_id": "3cda108f51424d53a038a9e902eb23b4",
       "version_major": 2,
       "version_minor": 0
      },
      "text/plain": [
       "Predicting: |                                                                                        | 0/? [00…"
      ]
     },
     "metadata": {},
     "output_type": "display_data"
    },
    {
     "name": "stdout",
     "output_type": "stream",
     "text": [
      "Val Recall: 0.8313333333333334\n",
      "Val Precision: 0.8376665397093777\n",
      "Val F1 Score: 0.8308071152276532\n",
      "\n",
      "---resnet50-intel-canny-fulltrain.ckpt---\n"
     ]
    },
    {
     "name": "stderr",
     "output_type": "stream",
     "text": [
      "/storage/ice1/5/4/rso31/miniforge3/envs/cv_env/lib/python3.12/site-packages/lightning/pytorch/utilities/migration/utils.py:56: The loaded checkpoint was produced with Lightning v2.2.2, which is newer than your current Lightning version: v2.2.1\n",
      "SLURM auto-requeueing enabled. Setting signal handlers.\n"
     ]
    },
    {
     "data": {
      "application/vnd.jupyter.widget-view+json": {
       "model_id": "545c6589520a4e218c283ad031828b47",
       "version_major": 2,
       "version_minor": 0
      },
      "text/plain": [
       "Predicting: |                                                                                        | 0/? [00…"
      ]
     },
     "metadata": {},
     "output_type": "display_data"
    },
    {
     "name": "stdout",
     "output_type": "stream",
     "text": [
      "Val Recall: 0.924\n",
      "Val Precision: 0.9236899262555608\n",
      "Val F1 Score: 0.9236374686533718\n",
      "\n",
      "---resnet50-intel-canny-1_20train.ckpt---\n"
     ]
    },
    {
     "name": "stderr",
     "output_type": "stream",
     "text": [
      "SLURM auto-requeueing enabled. Setting signal handlers.\n"
     ]
    },
    {
     "data": {
      "application/vnd.jupyter.widget-view+json": {
       "model_id": "513caf96bee14015ad86b792c47908d3",
       "version_major": 2,
       "version_minor": 0
      },
      "text/plain": [
       "Predicting: |                                                                                        | 0/? [00…"
      ]
     },
     "metadata": {},
     "output_type": "display_data"
    },
    {
     "name": "stdout",
     "output_type": "stream",
     "text": [
      "Val Recall: 0.894\n",
      "Val Precision: 0.8991442506434191\n",
      "Val F1 Score: 0.8931970667310595\n",
      "\n",
      "---resnet50-intel-canny-1_50train.ckpt---\n"
     ]
    },
    {
     "name": "stderr",
     "output_type": "stream",
     "text": [
      "SLURM auto-requeueing enabled. Setting signal handlers.\n"
     ]
    },
    {
     "data": {
      "application/vnd.jupyter.widget-view+json": {
       "model_id": "0e2470e3007143ec8849349296697000",
       "version_major": 2,
       "version_minor": 0
      },
      "text/plain": [
       "Predicting: |                                                                                        | 0/? [00…"
      ]
     },
     "metadata": {},
     "output_type": "display_data"
    },
    {
     "name": "stdout",
     "output_type": "stream",
     "text": [
      "Val Recall: 0.868\n",
      "Val Precision: 0.8812796753282749\n",
      "Val F1 Score: 0.8661777143071269\n",
      "\n",
      "---resnet50-intel-canny-1_100train.ckpt---\n"
     ]
    },
    {
     "name": "stderr",
     "output_type": "stream",
     "text": [
      "SLURM auto-requeueing enabled. Setting signal handlers.\n"
     ]
    },
    {
     "data": {
      "application/vnd.jupyter.widget-view+json": {
       "model_id": "466f3d5ed94d4bfab0d53387ccf95897",
       "version_major": 2,
       "version_minor": 0
      },
      "text/plain": [
       "Predicting: |                                                                                        | 0/? [00…"
      ]
     },
     "metadata": {},
     "output_type": "display_data"
    },
    {
     "name": "stderr",
     "output_type": "stream",
     "text": [
      "/storage/ice1/5/4/rso31/miniforge3/envs/cv_env/lib/python3.12/site-packages/lightning/pytorch/utilities/migration/utils.py:56: The loaded checkpoint was produced with Lightning v2.2.2, which is newer than your current Lightning version: v2.2.1\n",
      "SLURM auto-requeueing enabled. Setting signal handlers.\n"
     ]
    },
    {
     "name": "stdout",
     "output_type": "stream",
     "text": [
      "Val Recall: 0.8593333333333333\n",
      "Val Precision: 0.8635326591589657\n",
      "Val F1 Score: 0.8590123253399221\n",
      "\n",
      "---resnet50-intel-canny2-fulltrain.ckpt---\n"
     ]
    },
    {
     "data": {
      "application/vnd.jupyter.widget-view+json": {
       "model_id": "9c8d4109566242ae99f6bb925b80ef63",
       "version_major": 2,
       "version_minor": 0
      },
      "text/plain": [
       "Predicting: |                                                                                        | 0/? [00…"
      ]
     },
     "metadata": {},
     "output_type": "display_data"
    },
    {
     "name": "stdout",
     "output_type": "stream",
     "text": [
      "Val Recall: 0.926\n",
      "Val Precision: 0.9260538445658635\n",
      "Val F1 Score: 0.9256999692451612\n",
      "\n",
      "---resnet50-intel-canny2-1_20train.ckpt---\n"
     ]
    },
    {
     "name": "stderr",
     "output_type": "stream",
     "text": [
      "SLURM auto-requeueing enabled. Setting signal handlers.\n"
     ]
    },
    {
     "data": {
      "application/vnd.jupyter.widget-view+json": {
       "model_id": "4ed300814f88435c8281802457dbf492",
       "version_major": 2,
       "version_minor": 0
      },
      "text/plain": [
       "Predicting: |                                                                                        | 0/? [00…"
      ]
     },
     "metadata": {},
     "output_type": "display_data"
    },
    {
     "name": "stdout",
     "output_type": "stream",
     "text": [
      "Val Recall: 0.8773333333333333\n",
      "Val Precision: 0.8965966931948827\n",
      "Val F1 Score: 0.8734787118226385\n",
      "\n",
      "---resnet50-intel-canny2-1_50train.ckpt---\n"
     ]
    },
    {
     "name": "stderr",
     "output_type": "stream",
     "text": [
      "SLURM auto-requeueing enabled. Setting signal handlers.\n"
     ]
    },
    {
     "data": {
      "application/vnd.jupyter.widget-view+json": {
       "model_id": "aa88d5daf6804855adfa5e1feca3ade3",
       "version_major": 2,
       "version_minor": 0
      },
      "text/plain": [
       "Predicting: |                                                                                        | 0/? [00…"
      ]
     },
     "metadata": {},
     "output_type": "display_data"
    },
    {
     "name": "stdout",
     "output_type": "stream",
     "text": [
      "Val Recall: 0.858\n",
      "Val Precision: 0.8705849557511752\n",
      "Val F1 Score: 0.8557242368797233\n",
      "\n",
      "---resnet50-intel-canny2-1_100train.ckpt---\n"
     ]
    },
    {
     "name": "stderr",
     "output_type": "stream",
     "text": [
      "SLURM auto-requeueing enabled. Setting signal handlers.\n"
     ]
    },
    {
     "data": {
      "application/vnd.jupyter.widget-view+json": {
       "model_id": "4bd56758605248ee8b638ecacc384b16",
       "version_major": 2,
       "version_minor": 0
      },
      "text/plain": [
       "Predicting: |                                                                                        | 0/? [00…"
      ]
     },
     "metadata": {},
     "output_type": "display_data"
    },
    {
     "name": "stdout",
     "output_type": "stream",
     "text": [
      "Val Recall: 0.822\n",
      "Val Precision: 0.8406897280185138\n",
      "Val F1 Score: 0.8183323193091763\n",
      "\n"
     ]
    }
   ],
   "source": [
    "val_results = {}\n",
    "for aug_type in aug_types:\n",
    "    for fraction in fractions:\n",
    "        ckpt = f\"resnet50-intel-{aug_type}-{fraction}train.ckpt\"\n",
    "        print(f\"---{ckpt}---\")\n",
    "        loaded_model = IntelClassifier.load_from_checkpoint(checkpoint_path=ckpt)\n",
    "        resnet_pred, resnet_all_pred = get_test_preds(loaded_model, val_loader)\n",
    "        \n",
    "        resnet_top5, resnet_top3 = top_preds(resnet_all_pred)\n",
    "        \n",
    "        perf_dict = performance_metrics(resnet_pred, y_val, metric_type=\"Val\")\n",
    "        val_results[(fraction, aug_type)] = perf_dict\n",
    "        print()"
   ]
  },
  {
   "cell_type": "code",
   "execution_count": 69,
   "id": "fb5e7d9a-493d-4171-bdb7-2ce837f384d0",
   "metadata": {},
   "outputs": [],
   "source": [
    "val_df = pd.DataFrame.from_dict(test_results, orient='index')"
   ]
  },
  {
   "cell_type": "code",
   "execution_count": 70,
   "id": "cad2ba1d-2b23-41c0-9470-96d73644edff",
   "metadata": {},
   "outputs": [
    {
     "data": {
      "text/html": [
       "<div>\n",
       "<style scoped>\n",
       "    .dataframe tbody tr th:only-of-type {\n",
       "        vertical-align: middle;\n",
       "    }\n",
       "\n",
       "    .dataframe tbody tr th {\n",
       "        vertical-align: top;\n",
       "    }\n",
       "\n",
       "    .dataframe thead th {\n",
       "        text-align: right;\n",
       "    }\n",
       "</style>\n",
       "<table border=\"1\" class=\"dataframe\">\n",
       "  <thead>\n",
       "    <tr style=\"text-align: right;\">\n",
       "      <th></th>\n",
       "      <th></th>\n",
       "      <th>recall</th>\n",
       "      <th>precision</th>\n",
       "      <th>f1</th>\n",
       "    </tr>\n",
       "  </thead>\n",
       "  <tbody>\n",
       "    <tr>\n",
       "      <th rowspan=\"5\" valign=\"top\">full</th>\n",
       "      <th>raw</th>\n",
       "      <td>0.931333</td>\n",
       "      <td>0.931267</td>\n",
       "      <td>0.931240</td>\n",
       "    </tr>\n",
       "    <tr>\n",
       "      <th>tfms</th>\n",
       "      <td>0.929333</td>\n",
       "      <td>0.929317</td>\n",
       "      <td>0.929205</td>\n",
       "    </tr>\n",
       "    <tr>\n",
       "      <th>seg</th>\n",
       "      <td>0.916667</td>\n",
       "      <td>0.917359</td>\n",
       "      <td>0.916656</td>\n",
       "    </tr>\n",
       "    <tr>\n",
       "      <th>canny</th>\n",
       "      <td>0.928667</td>\n",
       "      <td>0.928405</td>\n",
       "      <td>0.928437</td>\n",
       "    </tr>\n",
       "    <tr>\n",
       "      <th>canny2</th>\n",
       "      <td>0.930000</td>\n",
       "      <td>0.929800</td>\n",
       "      <td>0.929832</td>\n",
       "    </tr>\n",
       "    <tr>\n",
       "      <th rowspan=\"5\" valign=\"top\">1_20</th>\n",
       "      <th>raw</th>\n",
       "      <td>0.889333</td>\n",
       "      <td>0.890503</td>\n",
       "      <td>0.889000</td>\n",
       "    </tr>\n",
       "    <tr>\n",
       "      <th>tfms</th>\n",
       "      <td>0.886000</td>\n",
       "      <td>0.890226</td>\n",
       "      <td>0.884921</td>\n",
       "    </tr>\n",
       "    <tr>\n",
       "      <th>seg</th>\n",
       "      <td>0.864667</td>\n",
       "      <td>0.883181</td>\n",
       "      <td>0.860244</td>\n",
       "    </tr>\n",
       "    <tr>\n",
       "      <th>canny</th>\n",
       "      <td>0.893333</td>\n",
       "      <td>0.898284</td>\n",
       "      <td>0.892508</td>\n",
       "    </tr>\n",
       "    <tr>\n",
       "      <th>canny2</th>\n",
       "      <td>0.874667</td>\n",
       "      <td>0.889629</td>\n",
       "      <td>0.870913</td>\n",
       "    </tr>\n",
       "    <tr>\n",
       "      <th rowspan=\"5\" valign=\"top\">1_50</th>\n",
       "      <th>raw</th>\n",
       "      <td>0.841333</td>\n",
       "      <td>0.855506</td>\n",
       "      <td>0.841207</td>\n",
       "    </tr>\n",
       "    <tr>\n",
       "      <th>tfms</th>\n",
       "      <td>0.812000</td>\n",
       "      <td>0.840100</td>\n",
       "      <td>0.806699</td>\n",
       "    </tr>\n",
       "    <tr>\n",
       "      <th>seg</th>\n",
       "      <td>0.826667</td>\n",
       "      <td>0.856083</td>\n",
       "      <td>0.817752</td>\n",
       "    </tr>\n",
       "    <tr>\n",
       "      <th>canny</th>\n",
       "      <td>0.861333</td>\n",
       "      <td>0.873686</td>\n",
       "      <td>0.858688</td>\n",
       "    </tr>\n",
       "    <tr>\n",
       "      <th>canny2</th>\n",
       "      <td>0.860667</td>\n",
       "      <td>0.873648</td>\n",
       "      <td>0.857548</td>\n",
       "    </tr>\n",
       "    <tr>\n",
       "      <th rowspan=\"5\" valign=\"top\">1_100</th>\n",
       "      <th>raw</th>\n",
       "      <td>0.793333</td>\n",
       "      <td>0.825094</td>\n",
       "      <td>0.781761</td>\n",
       "    </tr>\n",
       "    <tr>\n",
       "      <th>tfms</th>\n",
       "      <td>0.784000</td>\n",
       "      <td>0.823389</td>\n",
       "      <td>0.771427</td>\n",
       "    </tr>\n",
       "    <tr>\n",
       "      <th>seg</th>\n",
       "      <td>0.846000</td>\n",
       "      <td>0.855312</td>\n",
       "      <td>0.845075</td>\n",
       "    </tr>\n",
       "    <tr>\n",
       "      <th>canny</th>\n",
       "      <td>0.854000</td>\n",
       "      <td>0.862860</td>\n",
       "      <td>0.853844</td>\n",
       "    </tr>\n",
       "    <tr>\n",
       "      <th>canny2</th>\n",
       "      <td>0.814000</td>\n",
       "      <td>0.844606</td>\n",
       "      <td>0.811327</td>\n",
       "    </tr>\n",
       "  </tbody>\n",
       "</table>\n",
       "</div>"
      ],
      "text/plain": [
       "                recall  precision        f1\n",
       "full  raw     0.931333   0.931267  0.931240\n",
       "      tfms    0.929333   0.929317  0.929205\n",
       "      seg     0.916667   0.917359  0.916656\n",
       "      canny   0.928667   0.928405  0.928437\n",
       "      canny2  0.930000   0.929800  0.929832\n",
       "1_20  raw     0.889333   0.890503  0.889000\n",
       "      tfms    0.886000   0.890226  0.884921\n",
       "      seg     0.864667   0.883181  0.860244\n",
       "      canny   0.893333   0.898284  0.892508\n",
       "      canny2  0.874667   0.889629  0.870913\n",
       "1_50  raw     0.841333   0.855506  0.841207\n",
       "      tfms    0.812000   0.840100  0.806699\n",
       "      seg     0.826667   0.856083  0.817752\n",
       "      canny   0.861333   0.873686  0.858688\n",
       "      canny2  0.860667   0.873648  0.857548\n",
       "1_100 raw     0.793333   0.825094  0.781761\n",
       "      tfms    0.784000   0.823389  0.771427\n",
       "      seg     0.846000   0.855312  0.845075\n",
       "      canny   0.854000   0.862860  0.853844\n",
       "      canny2  0.814000   0.844606  0.811327"
      ]
     },
     "execution_count": 70,
     "metadata": {},
     "output_type": "execute_result"
    }
   ],
   "source": [
    "val_df"
   ]
  },
  {
   "cell_type": "code",
   "execution_count": 71,
   "id": "c401ac02-74cd-4cc5-b322-83e9bb3c5fe6",
   "metadata": {},
   "outputs": [],
   "source": [
    "val_df.to_csv('val_results.csv')"
   ]
  },
  {
   "cell_type": "code",
   "execution_count": null,
   "id": "0937926a-8695-4028-8d13-4ca3d030dc98",
   "metadata": {},
   "outputs": [],
   "source": []
  }
 ],
 "metadata": {
  "kernelspec": {
   "display_name": "Python 3 (ipykernel)",
   "language": "python",
   "name": "python3"
  },
  "language_info": {
   "codemirror_mode": {
    "name": "ipython",
    "version": 3
   },
   "file_extension": ".py",
   "mimetype": "text/x-python",
   "name": "python",
   "nbconvert_exporter": "python",
   "pygments_lexer": "ipython3",
   "version": "3.12.2"
  }
 },
 "nbformat": 4,
 "nbformat_minor": 5
}
