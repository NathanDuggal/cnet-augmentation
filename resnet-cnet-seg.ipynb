{
 "cells": [
  {
   "cell_type": "code",
   "execution_count": 1,
   "metadata": {
    "tags": []
   },
   "outputs": [],
   "source": [
    "import pandas as pd\n",
    "import numpy as np\n",
    "from skimage import io, transform\n",
    "\n",
    "import torch\n",
    "import torch.nn as nn\n",
    "from torch.utils.data import Dataset, DataLoader, random_split, ConcatDataset\n",
    "from torchvision import transforms, utils, models\n",
    "import torchvision as tv\n",
    "from torchvision.transforms import v2\n",
    "\n",
    "import lightning as L\n",
    "import torchmetrics as tm\n",
    "import torch.nn.functional as F\n",
    "\n",
    "from IPython.display import clear_output\n",
    "\n",
    "import os"
   ]
  },
  {
   "cell_type": "code",
   "execution_count": 2,
   "metadata": {
    "tags": []
   },
   "outputs": [
    {
     "name": "stderr",
     "output_type": "stream",
     "text": [
      "[rank: 0] Seed set to 42\n"
     ]
    },
    {
     "data": {
      "text/plain": [
       "42"
      ]
     },
     "execution_count": 2,
     "metadata": {},
     "output_type": "execute_result"
    }
   ],
   "source": [
    "L.seed_everything(42)"
   ]
  },
  {
   "cell_type": "markdown",
   "metadata": {},
   "source": [
    "### Creating the dataset and dataloader from `intel-image-classification`"
   ]
  },
  {
   "cell_type": "code",
   "execution_count": 3,
   "metadata": {
    "tags": []
   },
   "outputs": [],
   "source": [
    "# convert PIL image into torch Tensor then does specified transforms from docs: \n",
    "# https://pytorch.org/vision/main/models/generated/torchvision.models.resnet50.html\n",
    "ds_transforms = v2.Compose([\n",
    "    v2.ToImage(),\n",
    "    v2.Resize(256),\n",
    "    v2.CenterCrop(224),\n",
    "    v2.ToDtype(torch.float32, scale=True),\n",
    "    v2.Normalize([0.485, 0.456, 0.406], [0.229, 0.224, 0.225])\n",
    "])"
   ]
  },
  {
   "cell_type": "code",
   "execution_count": 4,
   "metadata": {
    "tags": []
   },
   "outputs": [],
   "source": [
    "def get_dataset(name, **kwargs):\n",
    "    path = \"intel-image-classification/\" + name\n",
    "    ds = tv.datasets.ImageFolder(path, transform=ds_transforms)\n",
    "    if 'rand_fraction' in kwargs:\n",
    "        sp_frac = kwargs['rand_fraction']\n",
    "        if type(sp_frac) is not float or not (0 < sp_frac < 1):\n",
    "            raise ValueError(f\"Invalid `rand_fraction` argument: [{sp_frac}]. Should be a float, s.t. 0.0 < x < 1.0\")\n",
    "        ds, _ = random_split(ds, [sp_frac, 1 - sp_frac], generator=torch.Generator().manual_seed(42))\n",
    "    return ds\n",
    "\n",
    "def get_train(aug_name=None, **kwargs):\n",
    "    if aug_name:\n",
    "        return get_dataset(\"seg_train/seg_train_aug/\" + aug_name, **kwargs)\n",
    "    return get_dataset(\"seg_train/seg_train\", **kwargs)\n",
    "\n",
    "def get_test(**kwargs):\n",
    "    return get_dataset(\"seg_test/seg_test\", **kwargs)"
   ]
  },
  {
   "cell_type": "code",
   "execution_count": 30,
   "metadata": {},
   "outputs": [],
   "source": [
    "TRAIN_FRACTION = 1/50"
   ]
  },
  {
   "cell_type": "code",
   "execution_count": 31,
   "metadata": {
    "tags": []
   },
   "outputs": [],
   "source": [
    "augmentation = \"seg\"\n",
    "train_dataset = ConcatDataset((get_train(rand_fraction=TRAIN_FRACTION), get_train(augmentation, rand_fraction=TRAIN_FRACTION)))\n",
    "test_dataset = get_test()"
   ]
  },
  {
   "cell_type": "code",
   "execution_count": 32,
   "metadata": {
    "tags": []
   },
   "outputs": [
    {
     "data": {
      "text/plain": [
       "562"
      ]
     },
     "execution_count": 32,
     "metadata": {},
     "output_type": "execute_result"
    }
   ],
   "source": [
    "len(train_dataset)"
   ]
  },
  {
   "cell_type": "code",
   "execution_count": 33,
   "metadata": {
    "tags": []
   },
   "outputs": [
    {
     "data": {
      "text/plain": [
       "3000"
      ]
     },
     "execution_count": 33,
     "metadata": {},
     "output_type": "execute_result"
    }
   ],
   "source": [
    "len(test_dataset)"
   ]
  },
  {
   "cell_type": "code",
   "execution_count": 34,
   "metadata": {
    "tags": []
   },
   "outputs": [],
   "source": [
    "test_dataset, val_dataset = random_split(test_dataset, [.5, .5], generator=torch.Generator().manual_seed(42))"
   ]
  },
  {
   "cell_type": "markdown",
   "metadata": {},
   "source": [
    "### Creating models & Training"
   ]
  },
  {
   "cell_type": "code",
   "execution_count": 35,
   "metadata": {
    "tags": []
   },
   "outputs": [],
   "source": [
    "feature_extractors = {}"
   ]
  },
  {
   "cell_type": "code",
   "execution_count": 36,
   "metadata": {
    "tags": []
   },
   "outputs": [],
   "source": [
    "# create resnet50 feature extractor\n",
    "resnet50 = models.resnet50(weights=models.ResNet50_Weights.DEFAULT)\n",
    "resnet50.eval()\n",
    "resnet50_backbone = list(resnet50.children())[:-1]\n",
    "resnet50_feat_extractor = nn.Sequential(*resnet50_backbone)\n",
    "feature_extractors['resnet50'] = resnet50_feat_extractor\n",
    "clear_output()"
   ]
  },
  {
   "cell_type": "code",
   "execution_count": 37,
   "metadata": {
    "tags": []
   },
   "outputs": [],
   "source": [
    "class IntelClassifier(L.LightningModule):\n",
    "    def __init__(self, feature_extractor_name, output_features, num_classes, classifier=None, optimizer=torch.optim.Adam, lr=1e-2):\n",
    "        super().__init__()\n",
    "        self.save_hyperparameters()\n",
    "        if feature_extractor_name not in feature_extractors:\n",
    "            raise ValueError(f\"`feature_extractor_name` argument is invalid (should be one of {list(feature_extractors.keys())})\")\n",
    "        self.feature_extractor = feature_extractors[feature_extractor_name]\n",
    "        self.classifier = classifier if classifier else nn.Sequential( # classifier layers after the feature extraction\n",
    "            nn.Linear(output_features, 512),\n",
    "            nn.LeakyReLU(),\n",
    "            nn.Dropout(.2),\n",
    "            nn.Linear(512, num_classes)\n",
    "        )\n",
    "        self.accuracy = tm.classification.Accuracy(task=\"multiclass\", num_classes=num_classes)\n",
    "        self.optimizer = optimizer\n",
    "        self.lr = lr\n",
    "\n",
    "    def forward(self, x):\n",
    "        self.feature_extractor.eval()\n",
    "        with torch.no_grad():\n",
    "            features = self.feature_extractor(x).flatten(1)\n",
    "        return self.classifier(features)\n",
    "\n",
    "    def _batch_step(self, batch, batch_kind):\n",
    "        if batch_kind == 'train':\n",
    "            self.classifier.train()\n",
    "        else:\n",
    "            self.classifier.eval()\n",
    "        x, y = batch\n",
    "        y_hat = self(x)\n",
    "        loss = F.cross_entropy(y_hat, y)\n",
    "        acc = self.accuracy(y_hat, y)\n",
    "        # logging onto tensorboard\n",
    "        self.log(f\"{batch_kind}_loss\", loss, prog_bar=True)\n",
    "        self.log(f\"{batch_kind}_acc_f1\", acc, prog_bar=True)\n",
    "        return loss\n",
    "\n",
    "    def training_step(self, batch, batch_idx):\n",
    "        return self._batch_step(batch, 'train')\n",
    "\n",
    "    def validation_step(self, batch, batch_idx):\n",
    "        return self._batch_step(batch, 'val')\n",
    "\n",
    "    def test_step(self, batch, batch_idx):\n",
    "        return self._batch_step(batch, 'test')\n",
    "\n",
    "    def predict_step(self, batch, batch_idx):\n",
    "        self.eval()\n",
    "        x, _ = batch\n",
    "        return self(x)\n",
    "    \n",
    "    def configure_optimizers(self):\n",
    "        optimizer = self.optimizer(self.parameters(), lr=self.lr)\n",
    "        return optimizer"
   ]
  },
  {
   "cell_type": "code",
   "execution_count": 38,
   "metadata": {
    "tags": []
   },
   "outputs": [],
   "source": [
    "resnet50_model = IntelClassifier('resnet50', 2048, 6, lr=1e-5)"
   ]
  },
  {
   "cell_type": "code",
   "execution_count": 39,
   "metadata": {
    "tags": []
   },
   "outputs": [],
   "source": [
    "BATCH_SIZE = 64\n",
    "train_loader = DataLoader(train_dataset, BATCH_SIZE, shuffle=True, num_workers=4)\n",
    "val_loader = DataLoader(val_dataset, BATCH_SIZE, num_workers=4)"
   ]
  },
  {
   "cell_type": "code",
   "execution_count": 40,
   "metadata": {
    "tags": []
   },
   "outputs": [],
   "source": [
    "# set up loggers\n",
    "tb_logger = L.pytorch.loggers.TensorBoardLogger(save_dir='')\n",
    "csv_logger = L.pytorch.loggers.CSVLogger(save_dir='')"
   ]
  },
  {
   "cell_type": "code",
   "execution_count": 41,
   "metadata": {
    "tags": []
   },
   "outputs": [],
   "source": [
    "trainer = L.Trainer(logger=[tb_logger, csv_logger], callbacks=[L.pytorch.callbacks.EarlyStopping(monitor=\"val_loss\", mode=\"min\", patience=5)], max_epochs=50)"
   ]
  },
  {
   "cell_type": "code",
   "execution_count": 42,
   "metadata": {
    "tags": []
   },
   "outputs": [],
   "source": [
    "torch.set_float32_matmul_precision('high')"
   ]
  },
  {
   "cell_type": "code",
   "execution_count": 43,
   "metadata": {
    "scrolled": true,
    "tags": []
   },
   "outputs": [
    {
     "name": "stderr",
     "output_type": "stream",
     "text": [
      "\n",
      "  | Name              | Type               | Params\n",
      "---------------------------------------------------------\n",
      "0 | feature_extractor | Sequential         | 23.5 M\n",
      "1 | classifier        | Sequential         | 1.1 M \n",
      "2 | accuracy          | MulticlassAccuracy | 0     \n",
      "---------------------------------------------------------\n",
      "24.6 M    Trainable params\n",
      "0         Non-trainable params\n",
      "24.6 M    Total params\n",
      "98.241    Total estimated model params size (MB)\n",
      "SLURM auto-requeueing enabled. Setting signal handlers.\n"
     ]
    },
    {
     "data": {
      "application/vnd.jupyter.widget-view+json": {
       "model_id": "",
       "version_major": 2,
       "version_minor": 0
      },
      "text/plain": [
       "Sanity Checking: |                                                                         | 0/? [00:00<?, ?it…"
      ]
     },
     "metadata": {},
     "output_type": "display_data"
    },
    {
     "name": "stderr",
     "output_type": "stream",
     "text": [
      "/storage/ice1/5/4/rso31/miniforge3/envs/cv_env/lib/python3.12/site-packages/lightning/pytorch/loops/fit_loop.py:298: The number of training batches (9) is smaller than the logging interval Trainer(log_every_n_steps=50). Set a lower value for log_every_n_steps if you want to see logs for the training epoch.\n"
     ]
    },
    {
     "data": {
      "application/vnd.jupyter.widget-view+json": {
       "model_id": "4218c8f646b34fa7a40c0bcb1f59a5de",
       "version_major": 2,
       "version_minor": 0
      },
      "text/plain": [
       "Training: |                                                                                | 0/? [00:00<?, ?it…"
      ]
     },
     "metadata": {},
     "output_type": "display_data"
    },
    {
     "data": {
      "application/vnd.jupyter.widget-view+json": {
       "model_id": "",
       "version_major": 2,
       "version_minor": 0
      },
      "text/plain": [
       "Validation: |                                                                              | 0/? [00:00<?, ?it…"
      ]
     },
     "metadata": {},
     "output_type": "display_data"
    },
    {
     "data": {
      "application/vnd.jupyter.widget-view+json": {
       "model_id": "",
       "version_major": 2,
       "version_minor": 0
      },
      "text/plain": [
       "Validation: |                                                                              | 0/? [00:00<?, ?it…"
      ]
     },
     "metadata": {},
     "output_type": "display_data"
    },
    {
     "data": {
      "application/vnd.jupyter.widget-view+json": {
       "model_id": "",
       "version_major": 2,
       "version_minor": 0
      },
      "text/plain": [
       "Validation: |                                                                              | 0/? [00:00<?, ?it…"
      ]
     },
     "metadata": {},
     "output_type": "display_data"
    },
    {
     "data": {
      "application/vnd.jupyter.widget-view+json": {
       "model_id": "",
       "version_major": 2,
       "version_minor": 0
      },
      "text/plain": [
       "Validation: |                                                                              | 0/? [00:00<?, ?it…"
      ]
     },
     "metadata": {},
     "output_type": "display_data"
    },
    {
     "data": {
      "application/vnd.jupyter.widget-view+json": {
       "model_id": "",
       "version_major": 2,
       "version_minor": 0
      },
      "text/plain": [
       "Validation: |                                                                              | 0/? [00:00<?, ?it…"
      ]
     },
     "metadata": {},
     "output_type": "display_data"
    },
    {
     "data": {
      "application/vnd.jupyter.widget-view+json": {
       "model_id": "",
       "version_major": 2,
       "version_minor": 0
      },
      "text/plain": [
       "Validation: |                                                                              | 0/? [00:00<?, ?it…"
      ]
     },
     "metadata": {},
     "output_type": "display_data"
    },
    {
     "data": {
      "application/vnd.jupyter.widget-view+json": {
       "model_id": "",
       "version_major": 2,
       "version_minor": 0
      },
      "text/plain": [
       "Validation: |                                                                              | 0/? [00:00<?, ?it…"
      ]
     },
     "metadata": {},
     "output_type": "display_data"
    },
    {
     "data": {
      "application/vnd.jupyter.widget-view+json": {
       "model_id": "",
       "version_major": 2,
       "version_minor": 0
      },
      "text/plain": [
       "Validation: |                                                                              | 0/? [00:00<?, ?it…"
      ]
     },
     "metadata": {},
     "output_type": "display_data"
    },
    {
     "data": {
      "application/vnd.jupyter.widget-view+json": {
       "model_id": "",
       "version_major": 2,
       "version_minor": 0
      },
      "text/plain": [
       "Validation: |                                                                              | 0/? [00:00<?, ?it…"
      ]
     },
     "metadata": {},
     "output_type": "display_data"
    },
    {
     "data": {
      "application/vnd.jupyter.widget-view+json": {
       "model_id": "",
       "version_major": 2,
       "version_minor": 0
      },
      "text/plain": [
       "Validation: |                                                                              | 0/? [00:00<?, ?it…"
      ]
     },
     "metadata": {},
     "output_type": "display_data"
    },
    {
     "data": {
      "application/vnd.jupyter.widget-view+json": {
       "model_id": "",
       "version_major": 2,
       "version_minor": 0
      },
      "text/plain": [
       "Validation: |                                                                              | 0/? [00:00<?, ?it…"
      ]
     },
     "metadata": {},
     "output_type": "display_data"
    },
    {
     "data": {
      "application/vnd.jupyter.widget-view+json": {
       "model_id": "",
       "version_major": 2,
       "version_minor": 0
      },
      "text/plain": [
       "Validation: |                                                                              | 0/? [00:00<?, ?it…"
      ]
     },
     "metadata": {},
     "output_type": "display_data"
    },
    {
     "data": {
      "application/vnd.jupyter.widget-view+json": {
       "model_id": "",
       "version_major": 2,
       "version_minor": 0
      },
      "text/plain": [
       "Validation: |                                                                              | 0/? [00:00<?, ?it…"
      ]
     },
     "metadata": {},
     "output_type": "display_data"
    },
    {
     "data": {
      "application/vnd.jupyter.widget-view+json": {
       "model_id": "",
       "version_major": 2,
       "version_minor": 0
      },
      "text/plain": [
       "Validation: |                                                                              | 0/? [00:00<?, ?it…"
      ]
     },
     "metadata": {},
     "output_type": "display_data"
    },
    {
     "data": {
      "application/vnd.jupyter.widget-view+json": {
       "model_id": "",
       "version_major": 2,
       "version_minor": 0
      },
      "text/plain": [
       "Validation: |                                                                              | 0/? [00:00<?, ?it…"
      ]
     },
     "metadata": {},
     "output_type": "display_data"
    },
    {
     "data": {
      "application/vnd.jupyter.widget-view+json": {
       "model_id": "",
       "version_major": 2,
       "version_minor": 0
      },
      "text/plain": [
       "Validation: |                                                                              | 0/? [00:00<?, ?it…"
      ]
     },
     "metadata": {},
     "output_type": "display_data"
    },
    {
     "data": {
      "application/vnd.jupyter.widget-view+json": {
       "model_id": "",
       "version_major": 2,
       "version_minor": 0
      },
      "text/plain": [
       "Validation: |                                                                              | 0/? [00:00<?, ?it…"
      ]
     },
     "metadata": {},
     "output_type": "display_data"
    },
    {
     "data": {
      "application/vnd.jupyter.widget-view+json": {
       "model_id": "",
       "version_major": 2,
       "version_minor": 0
      },
      "text/plain": [
       "Validation: |                                                                              | 0/? [00:00<?, ?it…"
      ]
     },
     "metadata": {},
     "output_type": "display_data"
    },
    {
     "data": {
      "application/vnd.jupyter.widget-view+json": {
       "model_id": "",
       "version_major": 2,
       "version_minor": 0
      },
      "text/plain": [
       "Validation: |                                                                              | 0/? [00:00<?, ?it…"
      ]
     },
     "metadata": {},
     "output_type": "display_data"
    },
    {
     "data": {
      "application/vnd.jupyter.widget-view+json": {
       "model_id": "",
       "version_major": 2,
       "version_minor": 0
      },
      "text/plain": [
       "Validation: |                                                                              | 0/? [00:00<?, ?it…"
      ]
     },
     "metadata": {},
     "output_type": "display_data"
    },
    {
     "data": {
      "application/vnd.jupyter.widget-view+json": {
       "model_id": "",
       "version_major": 2,
       "version_minor": 0
      },
      "text/plain": [
       "Validation: |                                                                              | 0/? [00:00<?, ?it…"
      ]
     },
     "metadata": {},
     "output_type": "display_data"
    },
    {
     "data": {
      "application/vnd.jupyter.widget-view+json": {
       "model_id": "",
       "version_major": 2,
       "version_minor": 0
      },
      "text/plain": [
       "Validation: |                                                                              | 0/? [00:00<?, ?it…"
      ]
     },
     "metadata": {},
     "output_type": "display_data"
    },
    {
     "data": {
      "application/vnd.jupyter.widget-view+json": {
       "model_id": "",
       "version_major": 2,
       "version_minor": 0
      },
      "text/plain": [
       "Validation: |                                                                              | 0/? [00:00<?, ?it…"
      ]
     },
     "metadata": {},
     "output_type": "display_data"
    },
    {
     "data": {
      "application/vnd.jupyter.widget-view+json": {
       "model_id": "",
       "version_major": 2,
       "version_minor": 0
      },
      "text/plain": [
       "Validation: |                                                                              | 0/? [00:00<?, ?it…"
      ]
     },
     "metadata": {},
     "output_type": "display_data"
    },
    {
     "data": {
      "application/vnd.jupyter.widget-view+json": {
       "model_id": "",
       "version_major": 2,
       "version_minor": 0
      },
      "text/plain": [
       "Validation: |                                                                              | 0/? [00:00<?, ?it…"
      ]
     },
     "metadata": {},
     "output_type": "display_data"
    },
    {
     "data": {
      "application/vnd.jupyter.widget-view+json": {
       "model_id": "",
       "version_major": 2,
       "version_minor": 0
      },
      "text/plain": [
       "Validation: |                                                                              | 0/? [00:00<?, ?it…"
      ]
     },
     "metadata": {},
     "output_type": "display_data"
    },
    {
     "data": {
      "application/vnd.jupyter.widget-view+json": {
       "model_id": "",
       "version_major": 2,
       "version_minor": 0
      },
      "text/plain": [
       "Validation: |                                                                              | 0/? [00:00<?, ?it…"
      ]
     },
     "metadata": {},
     "output_type": "display_data"
    },
    {
     "data": {
      "application/vnd.jupyter.widget-view+json": {
       "model_id": "",
       "version_major": 2,
       "version_minor": 0
      },
      "text/plain": [
       "Validation: |                                                                              | 0/? [00:00<?, ?it…"
      ]
     },
     "metadata": {},
     "output_type": "display_data"
    },
    {
     "data": {
      "application/vnd.jupyter.widget-view+json": {
       "model_id": "",
       "version_major": 2,
       "version_minor": 0
      },
      "text/plain": [
       "Validation: |                                                                              | 0/? [00:00<?, ?it…"
      ]
     },
     "metadata": {},
     "output_type": "display_data"
    },
    {
     "data": {
      "application/vnd.jupyter.widget-view+json": {
       "model_id": "",
       "version_major": 2,
       "version_minor": 0
      },
      "text/plain": [
       "Validation: |                                                                              | 0/? [00:00<?, ?it…"
      ]
     },
     "metadata": {},
     "output_type": "display_data"
    },
    {
     "data": {
      "application/vnd.jupyter.widget-view+json": {
       "model_id": "",
       "version_major": 2,
       "version_minor": 0
      },
      "text/plain": [
       "Validation: |                                                                              | 0/? [00:00<?, ?it…"
      ]
     },
     "metadata": {},
     "output_type": "display_data"
    },
    {
     "data": {
      "application/vnd.jupyter.widget-view+json": {
       "model_id": "",
       "version_major": 2,
       "version_minor": 0
      },
      "text/plain": [
       "Validation: |                                                                              | 0/? [00:00<?, ?it…"
      ]
     },
     "metadata": {},
     "output_type": "display_data"
    },
    {
     "data": {
      "application/vnd.jupyter.widget-view+json": {
       "model_id": "",
       "version_major": 2,
       "version_minor": 0
      },
      "text/plain": [
       "Validation: |                                                                              | 0/? [00:00<?, ?it…"
      ]
     },
     "metadata": {},
     "output_type": "display_data"
    },
    {
     "data": {
      "application/vnd.jupyter.widget-view+json": {
       "model_id": "",
       "version_major": 2,
       "version_minor": 0
      },
      "text/plain": [
       "Validation: |                                                                              | 0/? [00:00<?, ?it…"
      ]
     },
     "metadata": {},
     "output_type": "display_data"
    },
    {
     "data": {
      "application/vnd.jupyter.widget-view+json": {
       "model_id": "",
       "version_major": 2,
       "version_minor": 0
      },
      "text/plain": [
       "Validation: |                                                                              | 0/? [00:00<?, ?it…"
      ]
     },
     "metadata": {},
     "output_type": "display_data"
    },
    {
     "data": {
      "application/vnd.jupyter.widget-view+json": {
       "model_id": "",
       "version_major": 2,
       "version_minor": 0
      },
      "text/plain": [
       "Validation: |                                                                              | 0/? [00:00<?, ?it…"
      ]
     },
     "metadata": {},
     "output_type": "display_data"
    },
    {
     "data": {
      "application/vnd.jupyter.widget-view+json": {
       "model_id": "",
       "version_major": 2,
       "version_minor": 0
      },
      "text/plain": [
       "Validation: |                                                                              | 0/? [00:00<?, ?it…"
      ]
     },
     "metadata": {},
     "output_type": "display_data"
    },
    {
     "data": {
      "application/vnd.jupyter.widget-view+json": {
       "model_id": "",
       "version_major": 2,
       "version_minor": 0
      },
      "text/plain": [
       "Validation: |                                                                              | 0/? [00:00<?, ?it…"
      ]
     },
     "metadata": {},
     "output_type": "display_data"
    },
    {
     "data": {
      "application/vnd.jupyter.widget-view+json": {
       "model_id": "",
       "version_major": 2,
       "version_minor": 0
      },
      "text/plain": [
       "Validation: |                                                                              | 0/? [00:00<?, ?it…"
      ]
     },
     "metadata": {},
     "output_type": "display_data"
    },
    {
     "data": {
      "application/vnd.jupyter.widget-view+json": {
       "model_id": "",
       "version_major": 2,
       "version_minor": 0
      },
      "text/plain": [
       "Validation: |                                                                              | 0/? [00:00<?, ?it…"
      ]
     },
     "metadata": {},
     "output_type": "display_data"
    },
    {
     "data": {
      "application/vnd.jupyter.widget-view+json": {
       "model_id": "",
       "version_major": 2,
       "version_minor": 0
      },
      "text/plain": [
       "Validation: |                                                                              | 0/? [00:00<?, ?it…"
      ]
     },
     "metadata": {},
     "output_type": "display_data"
    },
    {
     "data": {
      "application/vnd.jupyter.widget-view+json": {
       "model_id": "",
       "version_major": 2,
       "version_minor": 0
      },
      "text/plain": [
       "Validation: |                                                                              | 0/? [00:00<?, ?it…"
      ]
     },
     "metadata": {},
     "output_type": "display_data"
    },
    {
     "data": {
      "application/vnd.jupyter.widget-view+json": {
       "model_id": "",
       "version_major": 2,
       "version_minor": 0
      },
      "text/plain": [
       "Validation: |                                                                              | 0/? [00:00<?, ?it…"
      ]
     },
     "metadata": {},
     "output_type": "display_data"
    },
    {
     "data": {
      "application/vnd.jupyter.widget-view+json": {
       "model_id": "",
       "version_major": 2,
       "version_minor": 0
      },
      "text/plain": [
       "Validation: |                                                                              | 0/? [00:00<?, ?it…"
      ]
     },
     "metadata": {},
     "output_type": "display_data"
    },
    {
     "data": {
      "application/vnd.jupyter.widget-view+json": {
       "model_id": "",
       "version_major": 2,
       "version_minor": 0
      },
      "text/plain": [
       "Validation: |                                                                              | 0/? [00:00<?, ?it…"
      ]
     },
     "metadata": {},
     "output_type": "display_data"
    },
    {
     "data": {
      "application/vnd.jupyter.widget-view+json": {
       "model_id": "",
       "version_major": 2,
       "version_minor": 0
      },
      "text/plain": [
       "Validation: |                                                                              | 0/? [00:00<?, ?it…"
      ]
     },
     "metadata": {},
     "output_type": "display_data"
    },
    {
     "data": {
      "application/vnd.jupyter.widget-view+json": {
       "model_id": "82bc09f663414036bf1092f5f5259d66",
       "version_major": 2,
       "version_minor": 0
      },
      "text/plain": [
       "Validation: |                                                                              | 0/? [00:00<?, ?it…"
      ]
     },
     "metadata": {},
     "output_type": "display_data"
    },
    {
     "data": {
      "application/vnd.jupyter.widget-view+json": {
       "model_id": "db25588a9f974264b23e01b8e2695857",
       "version_major": 2,
       "version_minor": 0
      },
      "text/plain": [
       "Validation: |                                                                              | 0/? [00:00<?, ?it…"
      ]
     },
     "metadata": {},
     "output_type": "display_data"
    },
    {
     "data": {
      "application/vnd.jupyter.widget-view+json": {
       "model_id": "b446718d97844b0ba0e80ccd4264908f",
       "version_major": 2,
       "version_minor": 0
      },
      "text/plain": [
       "Validation: |                                                                              | 0/? [00:00<?, ?it…"
      ]
     },
     "metadata": {},
     "output_type": "display_data"
    },
    {
     "data": {
      "application/vnd.jupyter.widget-view+json": {
       "model_id": "c09c57673c314758bf1dee26ef77b6a7",
       "version_major": 2,
       "version_minor": 0
      },
      "text/plain": [
       "Validation: |                                                                              | 0/? [00:00<?, ?it…"
      ]
     },
     "metadata": {},
     "output_type": "display_data"
    }
   ],
   "source": [
    "trainer.fit(resnet50_model, train_loader, val_loader)"
   ]
  },
  {
   "cell_type": "code",
   "execution_count": 44,
   "metadata": {
    "tags": []
   },
   "outputs": [],
   "source": [
    "CKPT_PATH = 'resnet50-intel-seg-1_50train.ckpt'"
   ]
  },
  {
   "cell_type": "code",
   "execution_count": 45,
   "metadata": {
    "tags": []
   },
   "outputs": [],
   "source": [
    "trainer.save_checkpoint(CKPT_PATH)"
   ]
  },
  {
   "cell_type": "markdown",
   "metadata": {},
   "source": [
    "### Evaluation"
   ]
  },
  {
   "cell_type": "code",
   "execution_count": 21,
   "metadata": {
    "tags": []
   },
   "outputs": [],
   "source": [
    "torch.set_float32_matmul_precision('high')"
   ]
  },
  {
   "cell_type": "code",
   "execution_count": 22,
   "metadata": {
    "tags": []
   },
   "outputs": [],
   "source": [
    "from sklearn.metrics import f1_score, accuracy_score, precision_score, recall_score"
   ]
  },
  {
   "cell_type": "code",
   "execution_count": 23,
   "metadata": {
    "tags": []
   },
   "outputs": [],
   "source": [
    "BATCH_SIZE = 64\n",
    "test_loader = DataLoader(test_dataset, BATCH_SIZE, num_workers=4)\n",
    "# train_whole_loader = DataLoader(train_whole_dataset, BATCH_SIZE)\n",
    "val_loader = DataLoader(val_dataset, BATCH_SIZE, num_workers=4)"
   ]
  },
  {
   "cell_type": "code",
   "execution_count": 24,
   "metadata": {
    "tags": []
   },
   "outputs": [],
   "source": [
    "# y = test_dataset.targets\n",
    "y = np.array([test_dataset[i][1] for i in range(len(test_dataset))])\n",
    "# y_train = train_whole_dataset.targets\n",
    "y_val = np.array([val_dataset[i][1] for i in range(len(val_dataset))])"
   ]
  },
  {
   "cell_type": "code",
   "execution_count": 25,
   "metadata": {
    "tags": []
   },
   "outputs": [],
   "source": [
    "def get_test_preds(loaded_model, test_loader):\n",
    "    trainer = L.Trainer()\n",
    "    loaded_model.freeze()\n",
    "\n",
    "    predictions_list = trainer.predict(loaded_model, test_loader) # 30-len list of 32 x 20 tensors\n",
    "    predictions = torch.vstack(predictions_list).numpy() # 952 x 20\n",
    "    top_preds = predictions.argmax(axis=1).flatten()\n",
    "\n",
    "    return top_preds, predictions\n",
    "\n",
    "def top_preds(all_predictions):\n",
    "    return (\n",
    "        np.argsort(all_predictions, axis=1)[:, -5:],\n",
    "        np.argsort(all_predictions, axis=1)[:, -3:]\n",
    "    )\n",
    "\n",
    "def get_topk_accuracy(top_preds, ground_truths):\n",
    "    ground_truths = np.array(ground_truths)\n",
    "    #check if ground truth class lies somewhere in the top k\n",
    "    #check if any of the top 5 predicted classes match the ground truth class\n",
    "    # print(top_preds.shape)\n",
    "    ground_truths = ground_truths.reshape(-1, 1)\n",
    "    matches = np.any(top_preds == ground_truths, axis=1)\n",
    "\n",
    "    # Count the number of matches\n",
    "    num_matches = np.sum(matches)\n",
    "    # print(num_matches)\n",
    "\n",
    "    # Calculate the percentage of images where at least one of the top 5 predictions matches the ground truth\n",
    "    percentage_matches = (num_matches / top_preds.shape[0]) * 100\n",
    "    return percentage_matches\n",
    "\n",
    "def performance_metrics(predictions, ground_truth, metric_type=\"Test\"):\n",
    "    accuracy = accuracy_score(ground_truth, predictions)\n",
    "    recall = recall_score(ground_truth, predictions, average='weighted')\n",
    "    precision = precision_score(ground_truth, predictions, average='weighted')\n",
    "    f1 = f1_score(ground_truth, predictions, average='weighted')\n",
    "\n",
    "    print(f\"{metric_type} Accuracy: {accuracy}\")\n",
    "    print(f\"{metric_type} Recall: {recall}\")\n",
    "    print(f\"{metric_type} Precision: {precision}\")\n",
    "    print(f\"{metric_type} F1 Score: {f1}\")"
   ]
  },
  {
   "cell_type": "code",
   "execution_count": 26,
   "metadata": {
    "tags": []
   },
   "outputs": [],
   "source": [
    "CKPTS = [\n",
    "    # \"resnet50-intel-raw-lr1e-5.ckpt\",\n",
    "    # \"resnet50-intel-raw-fulltrain.ckpt\",\n",
    "    # \"resnet50-intel-raw-CNET-augmented.ckpt\"\n",
    "    \"resnet50-intel-raw-1_20train.ckpt\",\n",
    "    \"resnet50-intel-seg-1_20train.ckpt\",\n",
    "    \"resnet50-intel-seg-1_20train2.ckpt\"\n",
    "]"
   ]
  },
  {
   "cell_type": "code",
   "execution_count": 27,
   "metadata": {
    "tags": []
   },
   "outputs": [],
   "source": [
    "import logging\n",
    "logging.getLogger(\"lightning.pytorch.utilities.rank_zero\").setLevel(logging.WARNING)\n",
    "logging.getLogger(\"lightning.pytorch.accelerators.cuda\").setLevel(logging.WARNING)"
   ]
  },
  {
   "cell_type": "code",
   "execution_count": 28,
   "metadata": {
    "tags": []
   },
   "outputs": [
    {
     "name": "stdout",
     "output_type": "stream",
     "text": [
      "---resnet50-intel-raw-1_20train.ckpt---\n"
     ]
    },
    {
     "name": "stderr",
     "output_type": "stream",
     "text": [
      "SLURM auto-requeueing enabled. Setting signal handlers.\n"
     ]
    },
    {
     "data": {
      "application/vnd.jupyter.widget-view+json": {
       "model_id": "f390a0f61ea049bfadc897a438c953d7",
       "version_major": 2,
       "version_minor": 0
      },
      "text/plain": [
       "Predicting: |                                                                              | 0/? [00:00<?, ?it…"
      ]
     },
     "metadata": {},
     "output_type": "display_data"
    },
    {
     "name": "stdout",
     "output_type": "stream",
     "text": [
      "acc@5 (top 5): 99.93333333333332\n",
      "acc@3 (top 3): 99.66666666666667\n",
      "Val Accuracy: 0.8933333333333333\n",
      "Val Recall: 0.8933333333333333\n",
      "Val Precision: 0.8952103602513043\n",
      "Val F1 Score: 0.892460628365606\n",
      "\n",
      "---resnet50-intel-seg-1_20train.ckpt---\n"
     ]
    },
    {
     "name": "stderr",
     "output_type": "stream",
     "text": [
      "SLURM auto-requeueing enabled. Setting signal handlers.\n"
     ]
    },
    {
     "data": {
      "application/vnd.jupyter.widget-view+json": {
       "model_id": "36ff1e7c0566462eba632099b654e700",
       "version_major": 2,
       "version_minor": 0
      },
      "text/plain": [
       "Predicting: |                                                                              | 0/? [00:00<?, ?it…"
      ]
     },
     "metadata": {},
     "output_type": "display_data"
    },
    {
     "name": "stdout",
     "output_type": "stream",
     "text": [
      "acc@5 (top 5): 99.93333333333332\n",
      "acc@3 (top 3): 99.6\n",
      "Val Accuracy: 0.8666666666666667\n",
      "Val Recall: 0.8666666666666667\n",
      "Val Precision: 0.8830993316176906\n",
      "Val F1 Score: 0.8619908831955873\n",
      "\n",
      "---resnet50-intel-seg-1_20train2.ckpt---\n"
     ]
    },
    {
     "name": "stderr",
     "output_type": "stream",
     "text": [
      "SLURM auto-requeueing enabled. Setting signal handlers.\n"
     ]
    },
    {
     "data": {
      "application/vnd.jupyter.widget-view+json": {
       "model_id": "34d66b77b32a4566b6a5a67fb4507888",
       "version_major": 2,
       "version_minor": 0
      },
      "text/plain": [
       "Predicting: |                                                                              | 0/? [00:00<?, ?it…"
      ]
     },
     "metadata": {},
     "output_type": "display_data"
    },
    {
     "name": "stdout",
     "output_type": "stream",
     "text": [
      "acc@5 (top 5): 99.93333333333332\n",
      "acc@3 (top 3): 99.6\n",
      "Val Accuracy: 0.8686666666666667\n",
      "Val Recall: 0.8686666666666667\n",
      "Val Precision: 0.8841116069785884\n",
      "Val F1 Score: 0.8646524240789533\n",
      "\n"
     ]
    }
   ],
   "source": [
    "for ckpt in CKPTS:\n",
    "    print(f\"---{ckpt}---\")\n",
    "    loaded_model = IntelClassifier.load_from_checkpoint(checkpoint_path=ckpt)\n",
    "    # loaded_model = ResnetClassifier(50)\n",
    "    # checkpoint = torch.load(ckpt)\n",
    "    # loaded_model.load_state_dict(checkpoint[\"state_dict\"])\n",
    "    resnet_pred, resnet_all_pred = get_test_preds(loaded_model, val_loader)\n",
    "    \n",
    "    resnet_top5, resnet_top3 = top_preds(resnet_all_pred)\n",
    "    print(f\"acc@5 (top 5): {get_topk_accuracy(resnet_top5, y_val)}\")\n",
    "    print(f\"acc@3 (top 3): {get_topk_accuracy(resnet_top3, y_val)}\")\n",
    "    \n",
    "    performance_metrics(resnet_pred, y_val, metric_type=\"Val\")\n",
    "    print()"
   ]
  },
  {
   "cell_type": "code",
   "execution_count": 29,
   "metadata": {
    "tags": []
   },
   "outputs": [
    {
     "name": "stderr",
     "output_type": "stream",
     "text": [
      "SLURM auto-requeueing enabled. Setting signal handlers.\n"
     ]
    },
    {
     "name": "stdout",
     "output_type": "stream",
     "text": [
      "---resnet50-intel-raw-1_20train.ckpt---\n"
     ]
    },
    {
     "data": {
      "application/vnd.jupyter.widget-view+json": {
       "model_id": "81b156047ca84066afdaf426fe93d632",
       "version_major": 2,
       "version_minor": 0
      },
      "text/plain": [
       "Predicting: |                                                                              | 0/? [00:00<?, ?it…"
      ]
     },
     "metadata": {},
     "output_type": "display_data"
    },
    {
     "name": "stderr",
     "output_type": "stream",
     "text": [
      "SLURM auto-requeueing enabled. Setting signal handlers.\n"
     ]
    },
    {
     "name": "stdout",
     "output_type": "stream",
     "text": [
      "acc@5 (top 5): 99.86666666666667\n",
      "acc@3 (top 3): 99.6\n",
      "Test Accuracy: 0.8893333333333333\n",
      "Test Recall: 0.8893333333333333\n",
      "Test Precision: 0.8905026017243582\n",
      "Test F1 Score: 0.8890000268103451\n",
      "\n",
      "---resnet50-intel-seg-1_20train.ckpt---\n"
     ]
    },
    {
     "data": {
      "application/vnd.jupyter.widget-view+json": {
       "model_id": "7f57985ddb454b6d970a24dc706289dc",
       "version_major": 2,
       "version_minor": 0
      },
      "text/plain": [
       "Predicting: |                                                                              | 0/? [00:00<?, ?it…"
      ]
     },
     "metadata": {},
     "output_type": "display_data"
    },
    {
     "name": "stderr",
     "output_type": "stream",
     "text": [
      "SLURM auto-requeueing enabled. Setting signal handlers.\n"
     ]
    },
    {
     "name": "stdout",
     "output_type": "stream",
     "text": [
      "acc@5 (top 5): 99.93333333333332\n",
      "acc@3 (top 3): 99.66666666666667\n",
      "Test Accuracy: 0.8653333333333333\n",
      "Test Recall: 0.8653333333333333\n",
      "Test Precision: 0.8836008226197719\n",
      "Test F1 Score: 0.8610227150344045\n",
      "\n",
      "---resnet50-intel-seg-1_20train2.ckpt---\n"
     ]
    },
    {
     "data": {
      "application/vnd.jupyter.widget-view+json": {
       "model_id": "abcac9703c0942f09c39cd3fc0649e16",
       "version_major": 2,
       "version_minor": 0
      },
      "text/plain": [
       "Predicting: |                                                                              | 0/? [00:00<?, ?it…"
      ]
     },
     "metadata": {},
     "output_type": "display_data"
    },
    {
     "name": "stdout",
     "output_type": "stream",
     "text": [
      "acc@5 (top 5): 99.8\n",
      "acc@3 (top 3): 99.46666666666667\n",
      "Test Accuracy: 0.8626666666666667\n",
      "Test Recall: 0.8626666666666667\n",
      "Test Precision: 0.8803714126544949\n",
      "Test F1 Score: 0.8578000453397787\n",
      "\n"
     ]
    }
   ],
   "source": [
    "for ckpt in CKPTS:\n",
    "    print(f\"---{ckpt}---\")\n",
    "    loaded_model = IntelClassifier.load_from_checkpoint(checkpoint_path=ckpt)\n",
    "    # loaded_model = ResnetClassifier(50)\n",
    "    # checkpoint = torch.load(ckpt)\n",
    "    # loaded_model.load_state_dict(checkpoint[\"state_dict\"])\n",
    "    resnet_pred, resnet_all_pred = get_test_preds(loaded_model, test_loader)\n",
    "    \n",
    "    resnet_top5, resnet_top3 = top_preds(resnet_all_pred)\n",
    "    print(f\"acc@5 (top 5): {get_topk_accuracy(resnet_top5, y)}\")\n",
    "    print(f\"acc@3 (top 3): {get_topk_accuracy(resnet_top3, y)}\")\n",
    "    \n",
    "    performance_metrics(resnet_pred, y)\n",
    "    print()"
   ]
  },
  {
   "cell_type": "code",
   "execution_count": null,
   "metadata": {},
   "outputs": [],
   "source": []
  }
 ],
 "metadata": {
  "kernelspec": {
   "display_name": "Python 3 (ipykernel)",
   "language": "python",
   "name": "python3"
  },
  "language_info": {
   "codemirror_mode": {
    "name": "ipython",
    "version": 3
   },
   "file_extension": ".py",
   "mimetype": "text/x-python",
   "name": "python",
   "nbconvert_exporter": "python",
   "pygments_lexer": "ipython3",
   "version": "3.12.2"
  }
 },
 "nbformat": 4,
 "nbformat_minor": 4
}
